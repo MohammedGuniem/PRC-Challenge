{
 "cells": [
  {
   "cell_type": "markdown",
   "id": "3c13bc95-b105-478d-9a8c-05bfbd9c8dde",
   "metadata": {},
   "source": [
    "<h1>Preprocess</h1>"
   ]
  },
  {
   "cell_type": "code",
   "execution_count": 1,
   "id": "5a9fa73e-602d-45b7-83af-8b8662fb9c46",
   "metadata": {},
   "outputs": [],
   "source": [
    "from sklearn.model_selection import GridSearchCV, KFold, train_test_split\n",
    "from sklearn.tree import DecisionTreeRegressor\n",
    "from sklearn.ensemble import RandomForestRegressor\n",
    "from sklearn.neural_network import MLPClassifier\n",
    "from sklearn.metrics import make_scorer, mean_squared_error\n",
    "from sklearn.preprocessing import LabelEncoder\n",
    "from IPython.display import display\n",
    "import matplotlib.pyplot as plt\n",
    "import pandas as pd\n",
    "import numpy as np\n",
    "\n",
    "import warnings\n",
    "warnings.filterwarnings('ignore')"
   ]
  },
  {
   "cell_type": "markdown",
   "id": "d7860229-b41b-44cc-b897-9bf15bb71e9f",
   "metadata": {},
   "source": [
    "<h1>Prepare for Grid Search</h1>"
   ]
  },
  {
   "cell_type": "code",
   "execution_count": 2,
   "id": "3fd8bbc2-a95e-4ef7-ba61-3f623607739f",
   "metadata": {},
   "outputs": [
    {
     "ename": "NameError",
     "evalue": "name 'challenge_set_df' is not defined",
     "output_type": "error",
     "traceback": [
      "\u001b[1;31m---------------------------------------------------------------------------\u001b[0m",
      "\u001b[1;31mNameError\u001b[0m                                 Traceback (most recent call last)",
      "Cell \u001b[1;32mIn[2], line 2\u001b[0m\n\u001b[0;32m      1\u001b[0m \u001b[38;5;66;03m# Pick up features from dataset\u001b[39;00m\n\u001b[1;32m----> 2\u001b[0m features \u001b[38;5;241m=\u001b[39m \u001b[43mchallenge_set_df\u001b[49m[[\u001b[38;5;124m'\u001b[39m\u001b[38;5;124madep\u001b[39m\u001b[38;5;124m'\u001b[39m, \u001b[38;5;124m'\u001b[39m\u001b[38;5;124mcountry_code_adep\u001b[39m\u001b[38;5;124m'\u001b[39m, \u001b[38;5;124m'\u001b[39m\u001b[38;5;124mades\u001b[39m\u001b[38;5;124m'\u001b[39m, \u001b[38;5;124m'\u001b[39m\u001b[38;5;124mcountry_code_ades\u001b[39m\u001b[38;5;124m'\u001b[39m, \u001b[38;5;124m'\u001b[39m\u001b[38;5;124maircraft_type\u001b[39m\u001b[38;5;124m'\u001b[39m, \u001b[38;5;124m'\u001b[39m\u001b[38;5;124mwtc\u001b[39m\u001b[38;5;124m'\u001b[39m, \u001b[38;5;124m'\u001b[39m\u001b[38;5;124mairline\u001b[39m\u001b[38;5;124m'\u001b[39m]]\n\u001b[0;32m      4\u001b[0m \u001b[38;5;66;03m# Pick up target from dataset\u001b[39;00m\n\u001b[0;32m      5\u001b[0m target \u001b[38;5;241m=\u001b[39m challenge_set_df[\u001b[38;5;124m'\u001b[39m\u001b[38;5;124mtow\u001b[39m\u001b[38;5;124m'\u001b[39m]\n",
      "\u001b[1;31mNameError\u001b[0m: name 'challenge_set_df' is not defined"
     ]
    }
   ],
   "source": [
    "# Pick up features from dataset\n",
    "features = challenge_set_df[['adep', 'country_code_adep', 'ades', 'country_code_ades', 'aircraft_type', 'wtc', 'airline']]\n",
    "\n",
    "# Pick up target from dataset\n",
    "target = challenge_set_df['tow']\n",
    "\n",
    "# Function to score model using Root Mean Square Error\n",
    "def rmse(y_true, y_pred):\n",
    "    return np.sqrt(((y_true - y_pred) ** 2).mean())\n",
    "    \n",
    "# Create a scorer\n",
    "rmse_scorer = make_scorer(rmse, greater_is_better=False)\n",
    "\n",
    "# Make cross validation strategy\n",
    "cv_strategy = KFold(n_splits=5, shuffle=True, random_state=123)\n",
    "\n",
    "# Function to print the best parameters and best RMSE score after tunning\n",
    "def print_model_score(grid_search):\n",
    "    print(\"Best Parameters:\", grid_search.best_params_)\n",
    "    print(\"Best Score (Negative Mean Squared Error):\", grid_search.best_score_)"
   ]
  },
  {
   "cell_type": "markdown",
   "id": "9a1e9061-a128-4620-b97a-595b35b6e79a",
   "metadata": {},
   "source": [
    "<h1>Grid Search using DecisionTreeRegressor()</h1>"
   ]
  },
  {
   "cell_type": "code",
   "execution_count": null,
   "id": "b8897ba9-5865-4e8d-a417-e0e4ce157fc1",
   "metadata": {},
   "outputs": [],
   "source": [
    "param_grid = {\n",
    "    'max_depth': [10, 20, 30, 40, 50],\n",
    "    'min_samples_split': [1, 2, 4, 6, 8],\n",
    "    'min_samples_leaf': [1, 2, 3],\n",
    "    'max_features': [None, 'sqrt'],\n",
    "    'criterion': ['squared_error', 'friedman_mse'],\n",
    "    'ccp_alpha': [0, 0.001, 0.005]\n",
    "}\n",
    "\n",
    "# Set up GridSearchCV with custom scoring\n",
    "grid_search = GridSearchCV(\n",
    "    estimator=DecisionTreeRegressor(random_state=123), \n",
    "    param_grid=param_grid, \n",
    "    scoring=rmse_scorer, \n",
    "    cv=cv_strategy, \n",
    "    n_jobs=-1, \n",
    "    verbose=1\n",
    ")\n",
    "\n",
    "grid_search.fit(features, target)\n",
    "\n",
    "print_model_score(grid_search)"
   ]
  },
  {
   "cell_type": "markdown",
   "id": "9970440c-01ca-4d72-a7d0-e9a6926463e7",
   "metadata": {},
   "source": [
    "<h1>Grid Search using RandomForestRegressor()</h1>"
   ]
  },
  {
   "cell_type": "code",
   "execution_count": null,
   "id": "448bc50f-4dd5-4694-be3f-e6f702111a22",
   "metadata": {},
   "outputs": [],
   "source": [
    "param_grid = {\n",
    "    'ccp_alpha': [0.001], \n",
    "    'criterion': ['squared_error'], \n",
    "    'max_depth': [30], \n",
    "    'max_features': [None], \n",
    "    'min_samples_leaf': [2], \n",
    "    'min_samples_split': [8],\n",
    "    'n_estimators': [20, 40, 60, 80, 100],\n",
    "    'bootstrap': [True, False]\n",
    "}\n",
    "\n",
    "# Set up GridSearchCV with custom scoring\n",
    "grid_search = GridSearchCV(\n",
    "    estimator=RandomForestRegressor(random_state=123), \n",
    "    param_grid=param_grid, \n",
    "    scoring=rmse_scorer, \n",
    "    cv=cv_strategy, \n",
    "    n_jobs=-1, \n",
    "    verbose=1\n",
    ")\n",
    "\n",
    "grid_search.fit(features, target)\n",
    "\n",
    "print_model_score(grid_search)"
   ]
  },
  {
   "cell_type": "markdown",
   "id": "4c7d84c3-cd24-46c3-b926-874939449c49",
   "metadata": {},
   "source": [
    "<h1>Predicting using the tunned parameters of RandomForestRegressor()</h1>"
   ]
  },
  {
   "cell_type": "code",
   "execution_count": null,
   "id": "0c0f3f9b-a2e2-43d0-a8e3-89ae5f908b7b",
   "metadata": {},
   "outputs": [],
   "source": [
    "# Function to plot an example prediction with the tunned parameters\n",
    "def plot_rmse(observed, predicted, show_error=False):\n",
    "    # Calculate errors\n",
    "    errors = observed - predicted\n",
    "    squared_errors = errors**2\n",
    "    mse = np.mean(squared_errors)\n",
    "    rmse = np.sqrt(mse)\n",
    "    \n",
    "    # Create a plot\n",
    "    plt.figure(figsize=(10, 6))\n",
    "    \n",
    "    # Plot the observed and predicted values\n",
    "    plt.plot(observed, 'o', label='Observed Values')\n",
    "    plt.plot(predicted, 'o', label='Predicted Values')\n",
    "    \n",
    "    # Plot the errors\n",
    "    for i in range(len(observed)):\n",
    "        plt.plot([i, i], [observed[i], predicted[i]], 'r--')\n",
    "        if show_error:\n",
    "            plt.text(i, (observed[i] + predicted[i]) / 2, f'{errors[i]:.1f}', ha='right', color='red')\n",
    "    \n",
    "    # Adding labels and title\n",
    "    plt.xlabel('Data Points')\n",
    "    plt.ylabel('Values')\n",
    "    plt.title('Visualizing RMSE Calculation')\n",
    "    plt.legend()\n",
    "    plt.grid(True)\n",
    "    \n",
    "    # Show RMSE in the plot\n",
    "    plt.text(1.5, max(observed) - 1, f'RMSE = {rmse:.3f}', fontsize=12, color='blue')\n",
    "\n",
    "    plt.xticks([])\n",
    "    plt.show()"
   ]
  },
  {
   "cell_type": "code",
   "execution_count": null,
   "id": "5280b759-21a7-46bf-be15-635de546a00c",
   "metadata": {},
   "outputs": [],
   "source": [
    "X_train, X_test, y_train, y_test = train_test_split(features, target, test_size=0.2, random_state=123, shuffle=True)\n",
    "\n",
    "model = RandomForestRegressor(\n",
    "    bootstrap=True,\n",
    "    ccp_alpha=0.001,\n",
    "    criterion='squared_error',\n",
    "    max_depth=30,\n",
    "    max_features=None,\n",
    "    min_samples_leaf=2,\n",
    "    min_samples_split=8,\n",
    "    n_estimators=100,\n",
    "    random_state=123\n",
    ")\n",
    "\n",
    "model.fit(X_train, y_train)\n",
    "\n",
    "y_pred = model.predict(X_test)"
   ]
  },
  {
   "cell_type": "code",
   "execution_count": null,
   "id": "c42f5d9b-321f-4726-b7f1-35c2ce0fa11b",
   "metadata": {},
   "outputs": [],
   "source": [
    "random_indices = np.random.choice(X_test.index, size=100, replace=False)\n",
    "\n",
    "X_test_sampled = X_test.loc[random_indices]\n",
    "y_test_sampled = y_test.loc[random_indices]\n",
    "\n",
    "y_pred_sampled = model.predict(X_test_sampled)\n",
    "\n",
    "plot_rmse(observed=np.array(y_test_sampled), predicted=np.array(y_pred_sampled), show_error=False)"
   ]
  },
  {
   "cell_type": "code",
   "execution_count": null,
   "id": "881d97e8-c860-44e1-9e10-42430dcfff85",
   "metadata": {},
   "outputs": [],
   "source": [
    "random_indices = np.random.choice(X_test.index, size=10, replace=False)\n",
    "\n",
    "X_test_sampled = X_test.loc[random_indices]\n",
    "y_test_sampled = y_test.loc[random_indices]\n",
    "\n",
    "y_pred_sampled = model.predict(X_test_sampled)\n",
    "\n",
    "plot_rmse(observed=np.array(y_test_sampled), predicted=np.array(y_pred_sampled), show_error=True)"
   ]
  }
 ],
 "metadata": {
  "kernelspec": {
   "display_name": "Python 3 (ipykernel)",
   "language": "python",
   "name": "python3"
  },
  "language_info": {
   "codemirror_mode": {
    "name": "ipython",
    "version": 3
   },
   "file_extension": ".py",
   "mimetype": "text/x-python",
   "name": "python",
   "nbconvert_exporter": "python",
   "pygments_lexer": "ipython3",
   "version": "3.11.9"
  }
 },
 "nbformat": 4,
 "nbformat_minor": 5
}
