{
 "cells": [
  {
   "cell_type": "code",
   "execution_count": 1,
   "id": "8cdeac3c-8165-4c61-9385-d5f1ca31cbd7",
   "metadata": {},
   "outputs": [],
   "source": [
    "from sklearn.model_selection import GridSearchCV, KFold, train_test_split\n",
    "from sklearn.metrics import make_scorer, mean_squared_error\n",
    "from sklearn.preprocessing import StandardScaler\n",
    "from xgboost import plot_importance\n",
    "import matplotlib.pyplot as plt\n",
    "import xgboost as xgb\n",
    "import pandas as pd\n",
    "import numpy as np\n",
    "\n",
    "pd.set_option(\"display.max_columns\", None)"
   ]
  },
  {
   "cell_type": "code",
   "execution_count": 2,
   "id": "440e3f14-7f06-4fc5-a0fd-f6a0d8dcec00",
   "metadata": {},
   "outputs": [],
   "source": [
    "identifier_name = 'flight_id'\n",
    "\n",
    "flight_features_names = [\n",
    "    'wtc', \n",
    "    'flown_distance', \n",
    "    'aircraft_type', \n",
    "    'airline',\n",
    "    'flight_duration',\n",
    "    'ades', \n",
    "    'adep',\n",
    "    'country_code_adep',\n",
    "    'country_code_ades',\n",
    "    'month_day',\n",
    "    'actual_offblock_time_hour',\n",
    "]  \n",
    " \n",
    "trajectory_features_names = [    \n",
    "    'groundspeed_max', \n",
    "    'groundspeed_75percentile', \n",
    "    'altitude_25percentile', \n",
    "    'longitude_max', \n",
    "    'latitude_min',  \n",
    "    'vertical_rate_std', \n",
    "    'altitude_median', \n",
    "    'longitude_mean', \n",
    "    'altitude_75percentile', \n",
    "    'longitude_std', \n",
    "    'latitude_max', \n",
    "    'latitude_std', \n",
    "    'vertical_rate_max', \n",
    "    'vertical_rate_25percentile', \n",
    "    'latitude_mean', \n",
    "    'longitude_min', \n",
    "    'longitude_25percentile', \n",
    "    'vertical_rate_75percentile', \n",
    "    'latitude_median', \n",
    "    'altitude_mean', \n",
    "    'latitude_25percentile', \n",
    "    'groundspeed_min',\n",
    "    'longitude_75percentile',\n",
    "    'vertical_rate_median'\n",
    "]\n",
    "\n",
    "target_name = 'tow'\n",
    "\n",
    "global_random_state = 123"
   ]
  },
  {
   "cell_type": "code",
   "execution_count": 3,
   "id": "199543ac-3f67-4e2e-aafb-e1a10a6c869c",
   "metadata": {},
   "outputs": [
    {
     "name": "stdout",
     "output_type": "stream",
     "text": [
      "len(flight_features) = 369013\n",
      "len(trajectory_features) = 369013\n",
      "len(target) = 369013\n"
     ]
    }
   ],
   "source": [
    "encoded_challenge_set = pd.read_csv('data/encoded_challenge_set.csv')\n",
    "\n",
    "flight_features = encoded_challenge_set[flight_features_names].values\n",
    "print(f\"{len(flight_features) = }\")\n",
    "\n",
    "trajectory_features = encoded_challenge_set[trajectory_features_names].values\n",
    "print(f\"{len(trajectory_features) = }\")\n",
    "\n",
    "target = encoded_challenge_set[[target_name]].values\n",
    "print(f\"{len(target) = }\")"
   ]
  },
  {
   "cell_type": "code",
   "execution_count": 4,
   "id": "fa8d8bd7-d743-4f52-9dc4-cbecf1af4fa4",
   "metadata": {},
   "outputs": [],
   "source": [
    "# Function to score model using Root Mean Square Error\n",
    "def rmse(y_true, y_pred):\n",
    "    return np.sqrt(mean_squared_error(y_true, y_pred))\n",
    "    \n",
    "# Create a scorer\n",
    "rmse_scorer = make_scorer(rmse, greater_is_better=False)\n",
    "\n",
    "# Make cross validation strategy\n",
    "cv_strategy = KFold(n_splits=5, shuffle=True, random_state=global_random_state)"
   ]
  },
  {
   "cell_type": "code",
   "execution_count": 5,
   "id": "e8454eaa-d60d-4f77-843c-d6fc801c3788",
   "metadata": {},
   "outputs": [
    {
     "name": "stdout",
     "output_type": "stream",
     "text": [
      "Running fold number: 1\n",
      "Running XGBoost with flight info only\n",
      "Running XGBoost with trajectory info only\n",
      "Running fold number: 2\n",
      "Running XGBoost with flight info only\n",
      "Running XGBoost with trajectory info only\n",
      "Running fold number: 3\n",
      "Running XGBoost with flight info only\n",
      "Running XGBoost with trajectory info only\n",
      "Running fold number: 4\n",
      "Running XGBoost with flight info only\n",
      "Running XGBoost with trajectory info only\n",
      "Running fold number: 5\n",
      "Running XGBoost with flight info only\n",
      "Running XGBoost with trajectory info only\n",
      "Average RMSE Scores with flight info only: 11163.645891886506\n",
      "Average RMSE Scores with trajectory info only: 11163.645891886506\n"
     ]
    }
   ],
   "source": [
    "fold_num = 1\n",
    "\n",
    "flight_rmse_scores = []\n",
    "trajectory_rmse_scores = []\n",
    "for train_index, test_index in cv_strategy.split(flight_features):\n",
    "    print(f\"Running fold number: {fold_num}\")\n",
    "    y_train, y_test = target[train_index], target[test_index]\n",
    "\n",
    "    print(\"Running XGBoost with flight info only\")\n",
    "    flight_X_train, flight_X_test = flight_features[train_index], flight_features[test_index]\n",
    "    flight_model = xgb.XGBRegressor(\n",
    "        objective='reg:squarederror', \n",
    "        eval_metric='rmse',\n",
    "        random_state=global_random_state,\n",
    "        n_estimators=3000,\n",
    "        colsample_bytree=1.0,\n",
    "        learning_rate=0.1, \n",
    "        max_depth=10, \n",
    "        subsample=1.0\n",
    "    )\n",
    "    flight_model.fit(flight_X_train, y_train)\n",
    "    flight_y_pred = flight_model.predict(flight_X_test)\n",
    "    flight_rmse_score = rmse(y_test, flight_y_pred)\n",
    "    flight_rmse_scores.append(flight_rmse_score)\n",
    "\n",
    "    print(\"Running XGBoost with trajectory info only\")\n",
    "    trajectory_X_train, trajectory_X_test = trajectory_features[train_index], trajectory_features[test_index]\n",
    "    trajectory_model = xgb.XGBRegressor(\n",
    "        objective='reg:squarederror', \n",
    "        eval_metric='rmse',\n",
    "        random_state=global_random_state,\n",
    "        n_estimators=3000,\n",
    "        colsample_bytree=1.0,\n",
    "        learning_rate=0.1, \n",
    "        max_depth=10, \n",
    "        subsample=1.0\n",
    "    )\n",
    "    trajectory_model.fit(trajectory_X_train, y_train)\n",
    "    trajectory_y_pred = trajectory_model.predict(trajectory_X_test)\n",
    "    trajectory_rmse_score = rmse(y_test, trajectory_y_pred)\n",
    "    trajectory_rmse_scores.append(trajectory_rmse_score)\n",
    "\n",
    "\n",
    "    fold_num += 1\n",
    "\n",
    "print(\"Average RMSE Scores with flight info only:\", np.mean(trajectory_rmse_scores))\n",
    "print(\"Average RMSE Scores with trajectory info only:\", np.mean(trajectory_rmse_scores))"
   ]
  }
 ],
 "metadata": {
  "kernelspec": {
   "display_name": "Python 3 (ipykernel)",
   "language": "python",
   "name": "python3"
  },
  "language_info": {
   "codemirror_mode": {
    "name": "ipython",
    "version": 3
   },
   "file_extension": ".py",
   "mimetype": "text/x-python",
   "name": "python",
   "nbconvert_exporter": "python",
   "pygments_lexer": "ipython3",
   "version": "3.11.9"
  }
 },
 "nbformat": 4,
 "nbformat_minor": 5
}
