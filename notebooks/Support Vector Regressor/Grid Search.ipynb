{
 "cells": [
  {
   "cell_type": "markdown",
   "id": "aa9ec53b-3842-47af-8c98-f9653e35b2f6",
   "metadata": {},
   "source": [
    "<h1>Grid Search</h1>"
   ]
  },
  {
   "cell_type": "code",
   "execution_count": 1,
   "id": "b9dabcbe-5543-4430-aae8-38a300698c35",
   "metadata": {},
   "outputs": [],
   "source": [
    "from sklearn.model_selection import GridSearchCV, KFold, train_test_split\n",
    "from sklearn.metrics import make_scorer, mean_squared_error\n",
    "from sklearn.linear_model import BayesianRidge\n",
    "import matplotlib.pyplot as plt\n",
    "import pandas as pd\n",
    "import numpy as np\n",
    "\n",
    "import warnings\n",
    "warnings.filterwarnings('ignore')"
   ]
  },
  {
   "cell_type": "markdown",
   "id": "6110dfeb-7e50-4e50-a976-c5e426a67928",
   "metadata": {},
   "source": [
    "<h3>A - Prepare for Grid Search</h3>"
   ]
  },
  {
   "cell_type": "code",
   "execution_count": 2,
   "id": "2b0e27e2-d5dd-448e-8e68-e4ee2e7b7519",
   "metadata": {},
   "outputs": [],
   "source": [
    "features_names = [\n",
    "    'flight_id',\n",
    "    'month-day',\n",
    "    'month',\n",
    "    'day_in_month',\n",
    "    'adep', \n",
    "    'country_code_adep', \n",
    "    'ades', \n",
    "    'country_code_ades', \n",
    "    'aircraft_type', \n",
    "    'wtc', \n",
    "    'airline', \n",
    "    'flight_duration', \n",
    "    'taxiout_time', \n",
    "    'flown_distance', \n",
    "    'actual_offblock_time_hour', \n",
    "    'actual_offblock_time_minute', \n",
    "    'actual_offblock_time_hour_minute', \n",
    "    'arrival_time_hour', \n",
    "    'arrival_time_minute', \n",
    "    'arrival_time_hour_minute', \n",
    "    'latitude_median', \n",
    "    'longitude_median', \n",
    "    'altitude_mean', \n",
    "    'groundspeed_mean', \n",
    "    'track_mean', \n",
    "    'vertical_rate_mean', \n",
    "    'track_unwrapped_mean', \n",
    "    'u_component_of_wind_mean', \n",
    "    'v_component_of_wind_mean', \n",
    "    'temperature_mean', \n",
    "    'specific_humidity_mean'\n",
    "]\n",
    "\n",
    "target = 'tow'"
   ]
  },
  {
   "cell_type": "code",
   "execution_count": 3,
   "id": "0d5122db-d3ca-4c45-b25a-21481037a267",
   "metadata": {},
   "outputs": [],
   "source": [
    "encoded_challenge_set = pd.read_csv('../../data/encoded_challenge_set.csv')\n",
    "\n",
    "encoded_challenge_set = encoded_challenge_set.fillna(0)\n",
    "\n",
    "# Pick up features from dataset\n",
    "features = encoded_challenge_set[features_names]\n",
    "\n",
    "# Pick up target from dataset\n",
    "target = encoded_challenge_set[target]\n",
    "\n",
    "X_train, X_test, y_train, y_test = train_test_split(features, target, test_size=0.3, random_state=123, shuffle=True)"
   ]
  },
  {
   "cell_type": "code",
   "execution_count": 4,
   "id": "ac950667-ad23-4b52-92d4-e40fd9b3e903",
   "metadata": {},
   "outputs": [],
   "source": [
    "# Function to score model using Root Mean Square Error\n",
    "def rmse(y_true, y_pred):\n",
    "    return np.sqrt(mean_squared_error(y_true, y_pred))\n",
    "    \n",
    "# Create a scorer\n",
    "rmse_scorer = make_scorer(rmse, greater_is_better=False)\n",
    "\n",
    "# Make cross validation strategy\n",
    "cv_strategy = KFold(n_splits=3, shuffle=True, random_state=123)\n",
    "\n",
    "# Function to print the best parameters and best RMSE score after tunning\n",
    "def print_model_score(grid_search):\n",
    "    print(\"Best Parameters:\", grid_search.best_params_)\n",
    "    print(\"\\nBest Score (Root Mean Squared Error):\", grid_search.best_score_)"
   ]
  },
  {
   "cell_type": "markdown",
   "id": "ba007766-2ae4-463f-9144-197a27e8bae9",
   "metadata": {},
   "source": [
    "<h3>B - Perform Grid Search</h3>"
   ]
  },
  {
   "cell_type": "code",
   "execution_count": 5,
   "id": "ade0d126-6cab-4275-8583-b6ca9f6b37f1",
   "metadata": {},
   "outputs": [
    {
     "name": "stdout",
     "output_type": "stream",
     "text": [
      "Fitting 3 folds for each of 625 candidates, totalling 1875 fits\n",
      "Best Parameters: {'alpha_1': 1e-06, 'alpha_2': 1e-06, 'lambda_1': 0.01, 'lambda_2': 1e-06}\n",
      "\n",
      "Best Score (Root Mean Squared Error): -14610.803467400701\n"
     ]
    }
   ],
   "source": [
    "# Define the parameter grid\n",
    "param_grid = {\n",
    "    'alpha_1': [1e-6, 1e-5, 1e-4, 1e-3, 1e-2],\n",
    "    'alpha_2': [1e-6, 1e-5, 1e-4, 1e-3, 1e-2],\n",
    "    'lambda_1': [1e-6, 1e-5, 1e-4, 1e-3, 1e-2],\n",
    "    'lambda_2': [1e-6, 1e-5, 1e-4, 1e-3, 1e-2]\n",
    "}\n",
    "\n",
    "model = BayesianRidge()\n",
    "\n",
    "# Set up GridSearchCV\n",
    "grid_search = GridSearchCV(\n",
    "    estimator=model,\n",
    "    param_grid=param_grid,\n",
    "    scoring=rmse_scorer,\n",
    "    cv=cv_strategy,\n",
    "    n_jobs=-1,  # Use all available cores\n",
    "    verbose=2\n",
    ")  # Print detailed progress\n",
    "\n",
    "# Fit GridSearchCV\n",
    "grid_search.fit(X_train, y_train)\n",
    "\n",
    "# Print Grid Search Results\n",
    "print_model_score(grid_search)"
   ]
  },
  {
   "cell_type": "markdown",
   "id": "6b4fea75-ce46-4b43-a41a-af2ebf83c692",
   "metadata": {},
   "source": [
    "<h3>C - Evaluate Best Estimator</h3>"
   ]
  },
  {
   "cell_type": "code",
   "execution_count": 6,
   "id": "4ce0fac9-94a7-48b7-8629-c59a397c50bd",
   "metadata": {},
   "outputs": [
    {
     "name": "stdout",
     "output_type": "stream",
     "text": [
      "Test RMSE:  14784.098670329755\n"
     ]
    }
   ],
   "source": [
    "best_model = grid_search.best_estimator_\n",
    "y_pred = best_model.predict(X_test)\n",
    "test_rmse = rmse(y_test, y_pred)\n",
    "print(\"Test RMSE: \", test_rmse)"
   ]
  }
 ],
 "metadata": {
  "kernelspec": {
   "display_name": "Python 3 (ipykernel)",
   "language": "python",
   "name": "python3"
  },
  "language_info": {
   "codemirror_mode": {
    "name": "ipython",
    "version": 3
   },
   "file_extension": ".py",
   "mimetype": "text/x-python",
   "name": "python",
   "nbconvert_exporter": "python",
   "pygments_lexer": "ipython3",
   "version": "3.11.0"
  }
 },
 "nbformat": 4,
 "nbformat_minor": 5
}
