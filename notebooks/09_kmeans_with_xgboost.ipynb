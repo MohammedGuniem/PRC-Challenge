{
 "cells": [
  {
   "cell_type": "code",
   "execution_count": 1,
   "id": "39f3270b-bcf5-4594-b90b-78cd2d06191b",
   "metadata": {},
   "outputs": [],
   "source": [
    "from sklearn.model_selection import cross_val_score, KFold\n",
    "from sklearn.preprocessing import StandardScaler\n",
    "from sklearn.cluster import KMeans\n",
    "import matplotlib.pyplot as plt\n",
    "import xgboost as xgb\n",
    "import pandas as pd\n",
    "import numpy as np"
   ]
  },
  {
   "cell_type": "code",
   "execution_count": 2,
   "id": "96da876c-39a1-4e7b-bedc-e04645282c91",
   "metadata": {},
   "outputs": [],
   "source": [
    "identifier_name = 'flight_id'\n",
    "\n",
    "top_features_names = [\n",
    "    'wtc', \n",
    "    'aircraft_type', \n",
    "    'flown_distance', \n",
    "    'groundspeed_max', \n",
    "    'latitude_min', \n",
    "    'altitude_25percentile', \n",
    "    'airline', \n",
    "    'flight_duration', \n",
    "    'longitude_max', \n",
    "    'vertical_rate_75percentile', \n",
    "    'altitude_median', \n",
    "    'ades', \n",
    "    'longitude_mean', \n",
    "    'altitude_75percentile', \n",
    "    'latitude_75percentile', \n",
    "    'vertical_rate_std', \n",
    "    'adep', \n",
    "    'latitude_std', \n",
    "    'vertical_rate_max', \n",
    "    'latitude_max', \n",
    "    'longitude_std', \n",
    "    'vertical_rate_25percentile', \n",
    "    'longitude_min', \n",
    "    'longitude_75percentile', \n",
    "    'altitude_mean', \n",
    "    'groundspeed_75percentile', \n",
    "    'country_code_adep', \n",
    "    'latitude_median', \n",
    "    'longitude_25percentile', \n",
    "    'groundspeed_min', \n",
    "    'country_code_ades', \n",
    "    'latitude_25percentile', \n",
    "    'actual_offblock_time_hour', \n",
    "    'longitude_median', \n",
    "    'month', \n",
    "    'altitude_std', \n",
    "    'latitude_count', \n",
    "    'taxiout_time', \n",
    "    'vertical_rate_median', \n",
    "    'month_day'\n",
    "]\n",
    "\n",
    "target_name = 'tow'\n",
    "\n",
    "global_random_state = 123"
   ]
  },
  {
   "cell_type": "code",
   "execution_count": 3,
   "id": "79cc23b8-e35b-4f78-81f4-2908707e0b9e",
   "metadata": {},
   "outputs": [],
   "source": [
    "encoded_challenge_set = pd.read_csv('data/encoded_challenge_set.csv')\n",
    "encoded_challenge_set = encoded_challenge_set.fillna(0)\n",
    "df = encoded_challenge_set[top_features_names+[target_name]]"
   ]
  },
  {
   "cell_type": "code",
   "execution_count": 4,
   "id": "7ca6151d-0e98-4cb2-90d0-bd5b2a7ccc25",
   "metadata": {},
   "outputs": [
    {
     "name": "stdout",
     "output_type": "stream",
     "text": [
      "Trying n_clusters: 1...\n",
      "---> cluster number: 0, has 369013 datapoint making 100.00% of original dataset, MSE: 9080649.9278, RMSE: 3013.4116757843794\n",
      "***n_clusters=1: MSE: 9080649.9278, RMSE: 3013.4116757843794\n",
      "\n",
      "Trying n_clusters: 2...\n",
      "---> cluster number: 0, has 136568 datapoint making 37.01% of original dataset, MSE: 6821131.5057, RMSE: 2611.729600414511\n",
      "---> cluster number: 1, has 232445 datapoint making 62.99% of original dataset, MSE: 10577830.7697, RMSE: 3252.3577247461462\n",
      "***n_clusters=2: MSE: 8699481.1377, RMSE: 2932.0436625803286\n",
      "\n",
      "Trying n_clusters: 3...\n",
      "---> cluster number: 0, has 135926 datapoint making 36.84% of original dataset, MSE: 6901804.3888, RMSE: 2627.1285443994216\n",
      "---> cluster number: 1, has 231874 datapoint making 62.84% of original dataset, MSE: 10628680.6959, RMSE: 3260.1657466867805\n",
      "---> cluster number: 2, has 1213 datapoint making 0.33% of original dataset, MSE: 12619796.3385, RMSE: 3552.4352687315686\n",
      "***n_clusters=3: MSE: 10050093.8077, RMSE: 3146.5765199392567\n",
      "\n",
      "Trying n_clusters: 4...\n",
      "---> cluster number: 0, has 50888 datapoint making 13.79% of original dataset, MSE: 9628178.2745, RMSE: 3102.93059453395\n",
      "---> cluster number: 1, has 176189 datapoint making 47.75% of original dataset, MSE: 12056065.6636, RMSE: 3472.1845664619937\n",
      "---> cluster number: 2, has 1213 datapoint making 0.33% of original dataset, MSE: 12619796.3385, RMSE: 3552.4352687315686\n",
      "---> cluster number: 3, has 140723 datapoint making 38.13% of original dataset, MSE: 5856667.5402, RMSE: 2420.05527626911\n",
      "***n_clusters=4: MSE: 10040176.9542, RMSE: 3136.901426499155\n",
      "\n",
      "Trying n_clusters: 5...\n",
      "---> cluster number: 0, has 94683 datapoint making 25.66% of original dataset, MSE: 5559326.8193, RMSE: 2357.822474088848\n",
      "---> cluster number: 1, has 121787 datapoint making 33.00% of original dataset, MSE: 14677825.0596, RMSE: 3831.1649742071513\n",
      "---> cluster number: 2, has 1213 datapoint making 0.33% of original dataset, MSE: 12619796.3385, RMSE: 3552.4352687315686\n",
      "---> cluster number: 3, has 116376 datapoint making 31.54% of original dataset, MSE: 6910109.6402, RMSE: 2628.70874007739\n",
      "---> cluster number: 4, has 34954 datapoint making 9.47% of original dataset, MSE: 11849450.7030, RMSE: 3442.3031102738146\n",
      "***n_clusters=5: MSE: 10323301.7121, RMSE: 3162.4869134757546\n",
      "\n",
      "Trying n_clusters: 6...\n",
      "---> cluster number: 0, has 89609 datapoint making 24.28% of original dataset, MSE: 5365080.7954, RMSE: 2316.2644053246095\n",
      "---> cluster number: 1, has 94689 datapoint making 25.66% of original dataset, MSE: 16429212.9227, RMSE: 4053.2965500618207\n",
      "---> cluster number: 2, has 1213 datapoint making 0.33% of original dataset, MSE: 12619796.3385, RMSE: 3552.4352687315686\n",
      "---> cluster number: 3, has 106771 datapoint making 28.93% of original dataset, MSE: 8399491.8032, RMSE: 2898.187675626167\n",
      "---> cluster number: 4, has 18204 datapoint making 4.93% of original dataset, MSE: 18338505.5362, RMSE: 4282.34813346325\n",
      "---> cluster number: 5, has 58527 datapoint making 15.86% of original dataset, MSE: 6444747.9741, RMSE: 2538.6508176744715\n",
      "***n_clusters=6: MSE: 11266139.2283, RMSE: 3273.530475146981\n",
      "\n",
      "Trying n_clusters: 7...\n",
      "---> cluster number: 0, has 89581 datapoint making 24.28% of original dataset, MSE: 5371962.9564, RMSE: 2317.7495456489983\n",
      "---> cluster number: 1, has 94624 datapoint making 25.64% of original dataset, MSE: 16324844.3357, RMSE: 4040.4015067411715\n",
      "---> cluster number: 2, has 308 datapoint making 0.08% of original dataset, MSE: 17767649.6810, RMSE: 4215.168997914404\n",
      "---> cluster number: 3, has 106742 datapoint making 28.93% of original dataset, MSE: 8706122.1458, RMSE: 2950.6138591514823\n",
      "---> cluster number: 4, has 18218 datapoint making 4.94% of original dataset, MSE: 17405076.2153, RMSE: 4171.939143282485\n",
      "---> cluster number: 5, has 58589 datapoint making 15.88% of original dataset, MSE: 6344181.8732, RMSE: 2518.765942526673\n",
      "---> cluster number: 6, has 951 datapoint making 0.26% of original dataset, MSE: 6606023.1882, RMSE: 2570.2185098231516\n",
      "***n_clusters=7: MSE: 11217980.0565, RMSE: 3254.979643584052\n",
      "\n",
      "Trying n_clusters: 8...\n",
      "---> cluster number: 0, has 52743 datapoint making 14.29% of original dataset, MSE: 6472829.0549, RMSE: 2544.175515743524\n",
      "---> cluster number: 1, has 65594 datapoint making 17.78% of original dataset, MSE: 19187241.8695, RMSE: 4380.32440230873\n",
      "---> cluster number: 2, has 1213 datapoint making 0.33% of original dataset, MSE: 12619796.3385, RMSE: 3552.4352687315686\n",
      "---> cluster number: 3, has 30319 datapoint making 8.22% of original dataset, MSE: 7042936.0585, RMSE: 2653.8530589587317\n",
      "---> cluster number: 4, has 60701 datapoint making 16.45% of original dataset, MSE: 5490430.7262, RMSE: 2343.166815710951\n",
      "---> cluster number: 5, has 13329 datapoint making 3.61% of original dataset, MSE: 23604810.6104, RMSE: 4858.478219610142\n",
      "---> cluster number: 6, has 64280 datapoint making 17.42% of original dataset, MSE: 8017259.8160, RMSE: 2831.476614056891\n",
      "---> cluster number: 7, has 80834 datapoint making 21.91% of original dataset, MSE: 9807876.5167, RMSE: 3131.7529463105284\n",
      "***n_clusters=8: MSE: 11530397.6238, RMSE: 3286.9578551788836\n",
      "\n",
      "Trying n_clusters: 9...\n",
      "---> cluster number: 0, has 52746 datapoint making 14.29% of original dataset, MSE: 6555479.1486, RMSE: 2560.366994914175\n",
      "---> cluster number: 1, has 65587 datapoint making 17.77% of original dataset, MSE: 19455565.1163, RMSE: 4410.846303861491\n",
      "---> cluster number: 2, has 308 datapoint making 0.08% of original dataset, MSE: 17767649.6810, RMSE: 4215.168997914404\n",
      "---> cluster number: 3, has 30317 datapoint making 8.22% of original dataset, MSE: 6835380.4912, RMSE: 2614.4560602986235\n",
      "---> cluster number: 4, has 60681 datapoint making 16.44% of original dataset, MSE: 5087207.9546, RMSE: 2255.4839734827724\n",
      "---> cluster number: 5, has 13329 datapoint making 3.61% of original dataset, MSE: 23604810.6104, RMSE: 4858.478219610142\n",
      "---> cluster number: 6, has 64272 datapoint making 17.42% of original dataset, MSE: 8401013.4112, RMSE: 2898.4501740104215\n",
      "---> cluster number: 7, has 80822 datapoint making 21.90% of original dataset, MSE: 9900299.4038, RMSE: 3146.474122542328\n",
      "---> cluster number: 8, has 951 datapoint making 0.26% of original dataset, MSE: 6606023.1882, RMSE: 2570.2185098231516\n",
      "***n_clusters=9: MSE: 11579269.8895, RMSE: 3281.104817384168\n",
      "\n",
      "Trying n_clusters: 10...\n",
      "---> cluster number: 0, has 44864 datapoint making 12.16% of original dataset, MSE: 6712384.1955, RMSE: 2590.826932748076\n",
      "---> cluster number: 1, has 61119 datapoint making 16.56% of original dataset, MSE: 12082791.3867, RMSE: 3476.030981838413\n",
      "---> cluster number: 2, has 308 datapoint making 0.08% of original dataset, MSE: 17767649.6810, RMSE: 4215.168997914404\n",
      "---> cluster number: 3, has 27543 datapoint making 7.46% of original dataset, MSE: 8336222.6015, RMSE: 2887.251738497522\n",
      "---> cluster number: 4, has 53358 datapoint making 14.46% of original dataset, MSE: 5245181.5147, RMSE: 2290.2361263975763\n",
      "---> cluster number: 5, has 13126 datapoint making 3.56% of original dataset, MSE: 23067397.9411, RMSE: 4802.853104259012\n",
      "---> cluster number: 6, has 54970 datapoint making 14.90% of original dataset, MSE: 6801957.7397, RMSE: 2608.0563145198694\n",
      "---> cluster number: 7, has 62403 datapoint making 16.91% of original dataset, MSE: 9332907.9710, RMSE: 3054.9808462602246\n",
      "---> cluster number: 8, has 951 datapoint making 0.26% of original dataset, MSE: 6606023.1882, RMSE: 2570.2185098231516\n",
      "---> cluster number: 9, has 50371 datapoint making 13.65% of original dataset, MSE: 21602319.5130, RMSE: 4647.829548616678\n",
      "***n_clusters=10: MSE: 11755483.5732, RMSE: 3314.345310087493\n",
      "\n",
      "Trying n_clusters: 11...\n",
      "---> cluster number: 0, has 33847 datapoint making 9.17% of original dataset, MSE: 7163103.3831, RMSE: 2676.3974635811537\n",
      "---> cluster number: 1, has 60854 datapoint making 16.49% of original dataset, MSE: 9505595.6519, RMSE: 3083.11460245749\n",
      "---> cluster number: 2, has 308 datapoint making 0.08% of original dataset, MSE: 17767649.6810, RMSE: 4215.168997914404\n",
      "---> cluster number: 3, has 23872 datapoint making 6.47% of original dataset, MSE: 9488642.0968, RMSE: 3080.36395524902\n",
      "---> cluster number: 4, has 44127 datapoint making 11.96% of original dataset, MSE: 5798923.6952, RMSE: 2408.0954497713337\n",
      "---> cluster number: 5, has 12824 datapoint making 3.48% of original dataset, MSE: 22835953.1989, RMSE: 4778.6978560005\n",
      "---> cluster number: 6, has 48148 datapoint making 13.05% of original dataset, MSE: 5401389.4158, RMSE: 2324.0889431678306\n",
      "---> cluster number: 7, has 49717 datapoint making 13.47% of original dataset, MSE: 9112280.4695, RMSE: 3018.655407546191\n",
      "---> cluster number: 8, has 950 datapoint making 0.26% of original dataset, MSE: 9248609.1510, RMSE: 3041.1526023792053\n",
      "---> cluster number: 9, has 52479 datapoint making 14.22% of original dataset, MSE: 13077278.8575, RMSE: 3616.2520456326474\n",
      "---> cluster number: 10, has 41887 datapoint making 11.35% of original dataset, MSE: 23241492.7288, RMSE: 4820.9431368598935\n",
      "***n_clusters=11: MSE: 12058265.3027, RMSE: 3369.357314596334\n",
      "\n",
      "Trying n_clusters: 12...\n",
      "---> cluster number: 0, has 33846 datapoint making 9.17% of original dataset, MSE: 6995608.2670, RMSE: 2644.921221313992\n",
      "---> cluster number: 1, has 60851 datapoint making 16.49% of original dataset, MSE: 9527026.5407, RMSE: 3086.588171536125\n",
      "---> cluster number: 2, has 353 datapoint making 0.10% of original dataset, MSE: 44221143.1366, RMSE: 6649.897979412451\n",
      "---> cluster number: 3, has 23872 datapoint making 6.47% of original dataset, MSE: 9488642.0968, RMSE: 3080.36395524902\n",
      "---> cluster number: 4, has 44127 datapoint making 11.96% of original dataset, MSE: 5772395.6326, RMSE: 2402.581035604821\n",
      "---> cluster number: 5, has 12824 datapoint making 3.48% of original dataset, MSE: 22835953.1989, RMSE: 4778.6978560005\n",
      "---> cluster number: 6, has 48149 datapoint making 13.05% of original dataset, MSE: 5458451.0940, RMSE: 2336.3328303138865\n",
      "---> cluster number: 7, has 49715 datapoint making 13.47% of original dataset, MSE: 8920221.6812, RMSE: 2986.674016562912\n",
      "---> cluster number: 8, has 909 datapoint making 0.25% of original dataset, MSE: 7131064.0362, RMSE: 2670.405219470239\n",
      "---> cluster number: 9, has 52477 datapoint making 14.22% of original dataset, MSE: 12842593.0287, RMSE: 3583.656377046423\n",
      "---> cluster number: 10, has 41887 datapoint making 11.35% of original dataset, MSE: 23415279.0716, RMSE: 4838.933670923346\n",
      "---> cluster number: 11, has 3 datapoint making 0.00% of original dataset, MSE: 1987419246.1687, RMSE: 44580.480551118795\n",
      "***n_clusters=12: MSE: 178668968.6628, RMSE: 6969.961073712709\n",
      "\n",
      "Trying n_clusters: 13...\n",
      "---> cluster number: 0, has 32208 datapoint making 8.73% of original dataset, MSE: 7249037.7207, RMSE: 2692.4037068637294\n",
      "---> cluster number: 1, has 36133 datapoint making 9.79% of original dataset, MSE: 13608414.1808, RMSE: 3688.9584140789557\n",
      "---> cluster number: 2, has 353 datapoint making 0.10% of original dataset, MSE: 44221143.1366, RMSE: 6649.897979412451\n",
      "---> cluster number: 3, has 23307 datapoint making 6.32% of original dataset, MSE: 9588078.4495, RMSE: 3096.462247393969\n",
      "---> cluster number: 4, has 42963 datapoint making 11.64% of original dataset, MSE: 5818221.8383, RMSE: 2412.0990523364085\n",
      "---> cluster number: 5, has 12783 datapoint making 3.46% of original dataset, MSE: 22855830.9996, RMSE: 4780.777238019476\n",
      "---> cluster number: 6, has 46638 datapoint making 12.64% of original dataset, MSE: 5264291.7970, RMSE: 2294.404453662843\n",
      "---> cluster number: 7, has 56571 datapoint making 15.33% of original dataset, MSE: 9003147.4224, RMSE: 3000.5245245458354\n",
      "---> cluster number: 8, has 908 datapoint making 0.25% of original dataset, MSE: 7719615.0515, RMSE: 2778.419524036854\n",
      "---> cluster number: 9, has 29351 datapoint making 7.95% of original dataset, MSE: 14490203.0067, RMSE: 3806.599927322049\n",
      "---> cluster number: 10, has 40549 datapoint making 10.99% of original dataset, MSE: 22675624.3566, RMSE: 4761.892938376506\n",
      "---> cluster number: 11, has 3 datapoint making 0.00% of original dataset, MSE: 1987419246.1687, RMSE: 44580.480551118795\n",
      "---> cluster number: 12, has 47246 datapoint making 12.80% of original dataset, MSE: 8421047.1036, RMSE: 2901.904047972637\n",
      "***n_clusters=13: MSE: 166025684.7102, RMSE: 6726.5249696261935\n",
      "\n",
      "Trying n_clusters: 14...\n",
      "---> cluster number: 0, has 29163 datapoint making 7.90% of original dataset, MSE: 7073430.9415, RMSE: 2659.5922509923066\n",
      "---> cluster number: 1, has 34736 datapoint making 9.41% of original dataset, MSE: 13459520.7342, RMSE: 3668.7219483409717\n",
      "---> cluster number: 2, has 353 datapoint making 0.10% of original dataset, MSE: 44221143.1366, RMSE: 6649.897979412451\n",
      "---> cluster number: 3, has 22445 datapoint making 6.08% of original dataset, MSE: 9179943.4563, RMSE: 3029.8421503877407\n",
      "---> cluster number: 4, has 43653 datapoint making 11.83% of original dataset, MSE: 5431924.5586, RMSE: 2330.6489565346483\n",
      "---> cluster number: 5, has 12729 datapoint making 3.45% of original dataset, MSE: 22173543.8131, RMSE: 4708.879252336299\n",
      "---> cluster number: 6, has 44731 datapoint making 12.12% of original dataset, MSE: 7031965.2369, RMSE: 2651.78529238469\n",
      "---> cluster number: 7, has 34629 datapoint making 9.38% of original dataset, MSE: 9144692.2371, RMSE: 3024.0192190306843\n",
      "---> cluster number: 8, has 908 datapoint making 0.25% of original dataset, MSE: 7719615.0515, RMSE: 2778.419524036854\n",
      "---> cluster number: 9, has 29213 datapoint making 7.92% of original dataset, MSE: 15550179.4506, RMSE: 3943.371584133756\n",
      "---> cluster number: 10, has 34839 datapoint making 9.44% of original dataset, MSE: 23409642.9222, RMSE: 4838.351260726728\n",
      "---> cluster number: 11, has 3 datapoint making 0.00% of original dataset, MSE: 1987419246.1687, RMSE: 44580.480551118795\n",
      "---> cluster number: 12, has 40507 datapoint making 10.98% of original dataset, MSE: 10166412.6186, RMSE: 3188.481240126624\n",
      "---> cluster number: 13, has 41104 datapoint making 11.14% of original dataset, MSE: 5956807.7385, RMSE: 2440.6572349413027\n",
      "***n_clusters=14: MSE: 154852719.1475, RMSE: 6463.796317464561\n",
      "\n"
     ]
    }
   ],
   "source": [
    "all_mse = []\n",
    "all_rmse = []\n",
    "n_clusters = list(range(1, 15, 1))\n",
    "\n",
    "for n in n_clusters:\n",
    "    print(f\"Trying n_clusters: {n}...\")\n",
    "    \n",
    "    #scaler = StandardScaler()\n",
    "    #df_scaled = scaler.fit_transform(data_df)\n",
    "    \n",
    "    data_df = df.copy()\n",
    "    kmeans = KMeans(n_clusters=n, random_state=global_random_state)\n",
    "    data_df['cluster'] = kmeans.fit_predict(data_df[top_features_names])\n",
    "\n",
    "    mean_mse_score = []\n",
    "    mean_rmse_score = []\n",
    "    for cluster_nr in range(0, n, 1):\n",
    "        cluster_df = data_df[data_df['cluster'] == cluster_nr]\n",
    "        \n",
    "        X = cluster_df[top_features_names]\n",
    "        y = cluster_df[target_name]\n",
    "        if cluster_df.empty:\n",
    "            print(f\"---> No samples in this cluster number: {cluster_nr}\")\n",
    "            continue\n",
    "\n",
    "        model = xgb.XGBRegressor(\n",
    "            colsample_bytree=1.0,\n",
    "            learning_rate=0.1, \n",
    "            max_depth=10, \n",
    "            n_estimators=91, \n",
    "            subsample=1.0,\n",
    "            objective='reg:squarederror', \n",
    "            eval_metric='rmse',\n",
    "            random_state=global_random_state\n",
    "        )\n",
    "        \n",
    "        kf = KFold(n_splits=3, shuffle=True, random_state=global_random_state)\n",
    "        scores = cross_val_score(model, X, y, cv=kf, scoring='neg_mean_squared_error')\n",
    "        mse_scores = -scores\n",
    "        mean_mse = np.mean(mse_scores)\n",
    "        mean_mse_score.append(mean_mse)\n",
    "        rmse = np.sqrt(mean_mse)\n",
    "        mean_rmse_score.append(rmse)\n",
    "        print(f'---> cluster number: {cluster_nr}, has {len(cluster_df)} datapoint making {(len(cluster_df)/len(data_df))*100:.2f}% of original dataset, MSE: {mean_mse:.4f}, RMSE: {rmse}')\n",
    "\n",
    "    n_clusters_mse_score = np.mean(mean_mse_score)\n",
    "    all_mse.append(n_clusters_mse_score)\n",
    "    n_clusters_rmse_score = np.mean(mean_rmse_score)\n",
    "    all_rmse.append(n_clusters_rmse_score)\n",
    "    print(f'***n_clusters={n}: MSE: {n_clusters_mse_score:.4f}, RMSE: {n_clusters_rmse_score}\\n')"
   ]
  },
  {
   "cell_type": "code",
   "execution_count": 5,
   "id": "3da47376-7f69-4db3-b2e5-780b975cfa06",
   "metadata": {},
   "outputs": [
    {
     "data": {
      "image/png": "[encoded data removed]",
      "text/plain": [
       "<Figure size 640x480 with 1 Axes>"
      ]
     },
     "metadata": {},
     "output_type": "display_data"
    },
    {
     "name": "stdout",
     "output_type": "stream",
     "text": [
      "\n"
     ]
    }
   ],
   "source": [
    "plt.bar(n_clusters, all_mse)\n",
    "plt.title(f\"Bar Plot of n_clusters with XGBoost MSE\")\n",
    "plt.xlabel(\"n_clusters\")\n",
    "plt.ylabel(\"MSE Score\")\n",
    "plt.xticks(ticks=n_clusters)\n",
    "plt.show()\n",
    "print()"
   ]
  },
  {
   "cell_type": "code",
   "execution_count": 6,
   "id": "7eaf8a6e-199f-4e79-b908-10ede0dc90c3",
   "metadata": {},
   "outputs": [
    {
     "data": {
      "image/png": "[encoded data removed]",
      "text/plain": [
       "<Figure size 640x480 with 1 Axes>"
      ]
     },
     "metadata": {},
     "output_type": "display_data"
    },
    {
     "name": "stdout",
     "output_type": "stream",
     "text": [
      "\n"
     ]
    }
   ],
   "source": [
    "plt.bar(n_clusters, all_rmse)\n",
    "plt.title(f\"Bar Plot of n_clusters with XGBoost RMSE\")\n",
    "plt.xlabel(\"n_clusters\")\n",
    "plt.ylabel(\"RMSE Score\")\n",
    "plt.xticks(ticks=n_clusters)\n",
    "plt.show()\n",
    "print()"
   ]
  },
  {
   "cell_type": "code",
   "execution_count": 7,
   "id": "e1e6c289-055f-4778-83b3-fa44c230d497",
   "metadata": {},
   "outputs": [
    {
     "name": "stdout",
     "output_type": "stream",
     "text": [
      "Minimum RMSE:  2932.0436625803286\n"
     ]
    }
   ],
   "source": [
    "print(f\"Minimum RMSE: \", all_rmse[np.argmin(all_rmse)])"
   ]
  },
  {
   "cell_type": "code",
   "execution_count": 8,
   "id": "4030cd0f-3073-4cf1-8423-e72d9da3e0eb",
   "metadata": {},
   "outputs": [
    {
     "name": "stdout",
     "output_type": "stream",
     "text": [
      "Number of clusters with minimum RMSE:  2\n"
     ]
    }
   ],
   "source": [
    "print(f\"Number of clusters with minimum RMSE: \", n_clusters[np.argmin(all_rmse)])"
   ]
  }
 ],
 "metadata": {
  "kernelspec": {
   "display_name": "Python 3 (ipykernel)",
   "language": "python",
   "name": "python3"
  },
  "language_info": {
   "codemirror_mode": {
    "name": "ipython",
    "version": 3
   },
   "file_extension": ".py",
   "mimetype": "text/x-python",
   "name": "python",
   "nbconvert_exporter": "python",
   "pygments_lexer": "ipython3",
   "version": "3.11.0"
  }
 },
 "nbformat": 4,
 "nbformat_minor": 5
}
