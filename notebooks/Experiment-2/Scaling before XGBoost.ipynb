{
 "cells": [
  {
   "cell_type": "code",
   "execution_count": 1,
   "id": "08962f5c-0843-4209-a307-1b58497d109e",
   "metadata": {},
   "outputs": [],
   "source": [
    "from sklearn.model_selection import GridSearchCV, KFold, train_test_split\n",
    "from sklearn.metrics import make_scorer, mean_squared_error\n",
    "from sklearn.preprocessing import MinMaxScaler, StandardScaler\n",
    "from xgboost import plot_importance\n",
    "import matplotlib.pyplot as plt\n",
    "from sklearn.neighbors import KNeighborsRegressor\n",
    "import xgboost as xgb\n",
    "import pandas as pd\n",
    "import numpy as np\n",
    "import itertools\n",
    "import time"
   ]
  },
  {
   "cell_type": "code",
   "execution_count": 2,
   "id": "b60f1f25-80e1-4ba7-84d8-d38e8b34f2a8",
   "metadata": {},
   "outputs": [],
   "source": [
    "challenge_set_df = pd.read_csv('../../data/encoded_challenge_set.csv')\n",
    "#display(challenge_set_df)\n",
    "#display(challenge_set_df.describe())\n",
    "#display(challenge_set_df.info())"
   ]
  },
  {
   "cell_type": "code",
   "execution_count": 3,
   "id": "ec6a778c-9016-4f28-8b4c-338075f850a9",
   "metadata": {},
   "outputs": [],
   "source": [
    "def rmse(y_true, y_pred):\n",
    "    return np.sqrt(mean_squared_error(y_true, y_pred))\n",
    "    \n",
    "def test_model(data_df, features_columns, target_column, n):\n",
    "    features = data_df[features_columns]\n",
    "    target = data_df[target_column]\n",
    "    X_array = features.values\n",
    "    y_array = target.values\n",
    "    mse_scores = []\n",
    "    kf = KFold(n_splits=3, shuffle=True, random_state=42)\n",
    "    for train_index, test_index in kf.split(X_array):\n",
    "        X_train, X_test = features.iloc[train_index], features.iloc[test_index]\n",
    "        y_train, y_test = target.iloc[train_index], target.iloc[test_index]\n",
    "        #model = xgb.XGBRegressor(objective='reg:squarederror', eval_metric='rmse')\n",
    "        model = KNeighborsRegressor(n_neighbors=n)\n",
    "        model.fit(X_train, y_train)\n",
    "        y_pred = model.predict(X_test)\n",
    "        mse_scores.append(rmse(y_test, y_pred))\n",
    "    return np.mean(mse_scores)\n",
    "\n",
    "def scale_data(dataframe, features, scale_type):\n",
    "    result_df = dataframe.copy()\n",
    "    if scale_type == \"Normalization\":\n",
    "        scaler = MinMaxScaler(feature_range=(0, 1))\n",
    "    elif scale_type == \"Standardization\":\n",
    "        scaler = StandardScaler()\n",
    "    result_df[features] = scaler.fit_transform(result_df[features])\n",
    "    return result_df"
   ]
  },
  {
   "cell_type": "code",
   "execution_count": 4,
   "id": "2dfc806c-62d9-4a0a-9cd9-cd14c822ca73",
   "metadata": {},
   "outputs": [],
   "source": [
    "feature_columns = [\n",
    "    'month-day', 'month', 'day_in_month', 'adep', 'country_code_adep', 'ades', 'country_code_ades', 'aircraft_type',\n",
    "    'wtc', 'airline', 'flight_duration', 'taxiout_time', 'flown_distance', 'actual_offblock_time_hour', 'actual_offblock_time_minute',\n",
    "    'actual_offblock_time_hour_minute', 'arrival_time_hour', 'arrival_time_minute', 'arrival_time_hour_minute', 'latitude_median', \n",
    "    'longitude_median', 'altitude_mean', 'groundspeed_mean', 'track_mean', 'vertical_rate_mean', 'track_unwrapped_mean', 'u_component_of_wind_mean', \n",
    "    'v_component_of_wind_mean', 'temperature_mean', 'specific_humidity_mean'\n",
    "]\n",
    "\n",
    "feature_columns = [\n",
    "    'month-day', 'month', 'day_in_month', 'adep', 'country_code_adep', 'ades', 'country_code_ades', 'aircraft_type',\n",
    "    'wtc', 'airline', 'flight_duration', 'taxiout_time', 'flown_distance', 'actual_offblock_time_hour', 'actual_offblock_time_minute',\n",
    "    'actual_offblock_time_hour_minute', 'arrival_time_hour', 'arrival_time_minute', 'arrival_time_hour_minute'\n",
    "]\n",
    "\n",
    "target_column = 'tow'\n",
    "\n",
    "df = challenge_set_df[feature_columns + [target_column]]\n",
    "#display(df)\n",
    "#display(df.describe())\n",
    "#display(df.info())"
   ]
  },
  {
   "cell_type": "code",
   "execution_count": 5,
   "id": "f643b954-6c23-4953-b75d-8e6af5fb8254",
   "metadata": {},
   "outputs": [],
   "source": [
    "normalized_df = scale_data(dataframe=df, features=feature_columns, scale_type=\"Normalization\")\n",
    "#display(normalized_df)\n",
    "#display(normalized_df.describe())\n",
    "#display(normalized_df.info())"
   ]
  },
  {
   "cell_type": "code",
   "execution_count": 6,
   "id": "f9e0fc28-80ca-4fee-8c67-0ca6edaccd90",
   "metadata": {},
   "outputs": [],
   "source": [
    "standardized_df = scale_data(dataframe=df, features=feature_columns, scale_type=\"Standardization\")\n",
    "#display(standardized_df)\n",
    "#display(standardized_df.describe().round())\n",
    "#display(standardized_df.info())"
   ]
  },
  {
   "cell_type": "code",
   "execution_count": 7,
   "id": "939159d8-cf50-4763-b1e7-002e41d35c19",
   "metadata": {},
   "outputs": [
    {
     "name": "stdout",
     "output_type": "stream",
     "text": [
      "KNN with Normalization\n",
      "n = 1\n"
     ]
    },
    {
     "name": "stderr",
     "output_type": "stream",
     "text": [
      "C:\\Users\\MOHAMMEDG\\Anaconda3\\envs\\prc\\Lib\\site-packages\\joblib\\externals\\loky\\backend\\context.py:136: UserWarning: Could not find the number of physical cores for the following reason:\n",
      "found 0 physical cores < 1\n",
      "Returning the number of logical cores instead. You can silence this warning by setting LOKY_MAX_CPU_COUNT to the number of cores you want to use.\n",
      "  warnings.warn(\n",
      "  File \"C:\\Users\\MOHAMMEDG\\Anaconda3\\envs\\prc\\Lib\\site-packages\\joblib\\externals\\loky\\backend\\context.py\", line 282, in _count_physical_cores\n",
      "    raise ValueError(f\"found {cpu_count_physical} physical cores < 1\")\n"
     ]
    },
    {
     "name": "stdout",
     "output_type": "stream",
     "text": [
      "rmse_score = 9542.174884865412\n",
      "Execution time: 126.1447913646698 seconds\n",
      "\n",
      "n = 2\n",
      "rmse_score = 8548.650932308681\n",
      "Execution time: 135.5787901878357 seconds\n",
      "\n",
      "n = 3\n",
      "rmse_score = 8277.415254238866\n",
      "Execution time: 122.00680828094482 seconds\n",
      "\n",
      "n = 4\n",
      "rmse_score = 8219.39652872981\n",
      "Execution time: 121.18334221839905 seconds\n",
      "\n",
      "n = 5\n",
      "rmse_score = 8207.934188597848\n",
      "Execution time: 125.52816104888916 seconds\n",
      "\n",
      "n = 6\n",
      "rmse_score = 8223.588717174773\n",
      "Execution time: 131.73410773277283 seconds\n",
      "\n",
      "n = 7\n",
      "rmse_score = 8256.897976718734\n",
      "Execution time: 143.79837131500244 seconds\n",
      "\n",
      "n = 8\n",
      "rmse_score = 8311.202968174945\n",
      "Execution time: 153.47965550422668 seconds\n",
      "\n",
      "n = 9\n",
      "rmse_score = 8374.86285669401\n",
      "Execution time: 153.14995622634888 seconds\n",
      "\n"
     ]
    }
   ],
   "source": [
    "print(\"KNN with Normalization\")\n",
    "for n in range(1, 10, 1):\n",
    "    print(f\"{n = }\")\n",
    "    start_time = time.time()\n",
    "    rmse_score = test_model(normalized_df, feature_columns, target_column, n)\n",
    "    print(f\"{rmse_score = }\")\n",
    "    print(f\"Execution time: {time.time() - start_time} seconds\")\n",
    "    print()"
   ]
  },
  {
   "cell_type": "code",
   "execution_count": null,
   "id": "81e57483-5e4d-4034-a080-61fa3efc676c",
   "metadata": {},
   "outputs": [
    {
     "name": "stdout",
     "output_type": "stream",
     "text": [
      "KNN with Standarization\n",
      "n = 1\n",
      "rmse_score = 8955.534460265557\n",
      "Execution time: 115.42830061912537 seconds\n",
      "\n",
      "n = 2\n",
      "rmse_score = 8033.001826710592\n",
      "Execution time: 148.0676429271698 seconds\n",
      "\n",
      "n = 3\n",
      "rmse_score = 7809.959302066108\n",
      "Execution time: 137.72832322120667 seconds\n",
      "\n",
      "n = 4\n",
      "rmse_score = 7727.740588677475\n",
      "Execution time: 223.73109197616577 seconds\n",
      "\n",
      "n = 5\n"
     ]
    }
   ],
   "source": [
    "print(\"KNN with Standarization\")\n",
    "for n in range(1, 10, 1):\n",
    "    print(f\"{n = }\")\n",
    "    start_time = time.time()\n",
    "    rmse_score = test_model(standardized_df, feature_columns, target_column, n)\n",
    "    print(f\"{rmse_score = }\")\n",
    "    print(f\"Execution time: {time.time() - start_time} seconds\")\n",
    "    print()"
   ]
  }
 ],
 "metadata": {
  "kernelspec": {
   "display_name": "Python 3 (ipykernel)",
   "language": "python",
   "name": "python3"
  },
  "language_info": {
   "codemirror_mode": {
    "name": "ipython",
    "version": 3
   },
   "file_extension": ".py",
   "mimetype": "text/x-python",
   "name": "python",
   "nbconvert_exporter": "python",
   "pygments_lexer": "ipython3",
   "version": "3.11.9"
  }
 },
 "nbformat": 4,
 "nbformat_minor": 5
}
