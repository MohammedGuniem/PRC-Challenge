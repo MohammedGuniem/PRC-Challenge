{
 "cells": [
  {
   "cell_type": "code",
   "execution_count": 1,
   "id": "08962f5c-0843-4209-a307-1b58497d109e",
   "metadata": {},
   "outputs": [],
   "source": [
    "from sklearn.model_selection import GridSearchCV, KFold, train_test_split\n",
    "from sklearn.metrics import make_scorer, mean_squared_error\n",
    "from sklearn.preprocessing import MinMaxScaler, StandardScaler\n",
    "from xgboost import plot_importance\n",
    "import matplotlib.pyplot as plt\n",
    "from sklearn.neighbors import KNeighborsRegressor\n",
    "import xgboost as xgb\n",
    "import pandas as pd\n",
    "import numpy as np\n",
    "import itertools\n",
    "import time"
   ]
  },
  {
   "cell_type": "code",
   "execution_count": 2,
   "id": "b60f1f25-80e1-4ba7-84d8-d38e8b34f2a8",
   "metadata": {},
   "outputs": [],
   "source": [
    "challenge_set_df = pd.read_csv('../../data/encoded_challenge_set.csv')\n",
    "#display(challenge_set_df)\n",
    "#display(challenge_set_df.describe())\n",
    "#display(challenge_set_df.info())"
   ]
  },
  {
   "cell_type": "code",
   "execution_count": 3,
   "id": "ec6a778c-9016-4f28-8b4c-338075f850a9",
   "metadata": {},
   "outputs": [],
   "source": [
    "def rmse(y_true, y_pred):\n",
    "    return np.sqrt(mean_squared_error(y_true, y_pred))\n",
    "    \n",
    "def test_model(data_df, features_columns, target_column, n):\n",
    "    features = data_df[features_columns]\n",
    "    target = data_df[target_column]\n",
    "    X_array = features.values\n",
    "    y_array = target.values\n",
    "    mse_scores = []\n",
    "    kf = KFold(n_splits=3, shuffle=True, random_state=42)\n",
    "    for train_index, test_index in kf.split(X_array):\n",
    "        X_train, X_test = features.iloc[train_index], features.iloc[test_index]\n",
    "        y_train, y_test = target.iloc[train_index], target.iloc[test_index]\n",
    "        #model = xgb.XGBRegressor(objective='reg:squarederror', eval_metric='rmse')\n",
    "        model = KNeighborsRegressor(n_neighbors=n)\n",
    "        model.fit(X_train, y_train)\n",
    "        y_pred = model.predict(X_test)\n",
    "        mse_scores.append(rmse(y_test, y_pred))\n",
    "    return np.mean(mse_scores)\n",
    "\n",
    "def scale_data(dataframe, features, scale_type):\n",
    "    result_df = dataframe.copy()\n",
    "    if scale_type == \"Normalization\":\n",
    "        scaler = MinMaxScaler(feature_range=(0, 1))\n",
    "    elif scale_type == \"Standardization\":\n",
    "        scaler = StandardScaler()\n",
    "    result_df[features] = scaler.fit_transform(result_df[features])\n",
    "    return result_df"
   ]
  },
  {
   "cell_type": "code",
   "execution_count": 4,
   "id": "2dfc806c-62d9-4a0a-9cd9-cd14c822ca73",
   "metadata": {},
   "outputs": [],
   "source": [
    "feature_columns = [\n",
    "    'month-day', 'month', 'day_in_month', 'adep', 'country_code_adep', 'ades', 'country_code_ades', 'aircraft_type',\n",
    "    'wtc', 'airline', 'flight_duration', 'taxiout_time', 'flown_distance', 'actual_offblock_time_hour', 'actual_offblock_time_minute',\n",
    "    'actual_offblock_time_hour_minute', 'arrival_time_hour', 'arrival_time_minute', 'arrival_time_hour_minute', 'latitude_median', \n",
    "    'longitude_median', 'altitude_mean', 'groundspeed_mean', 'track_mean', 'vertical_rate_mean', 'track_unwrapped_mean', 'u_component_of_wind_mean', \n",
    "    'v_component_of_wind_mean', 'temperature_mean', 'specific_humidity_mean'\n",
    "]\n",
    "\n",
    "feature_columns = [\n",
    "    'month-day', 'month', 'day_in_month', 'adep', 'country_code_adep', 'ades', 'country_code_ades', 'aircraft_type',\n",
    "    'wtc', 'airline', 'flight_duration', 'taxiout_time', 'flown_distance', 'actual_offblock_time_hour', 'actual_offblock_time_minute',\n",
    "    'actual_offblock_time_hour_minute', 'arrival_time_hour', 'arrival_time_minute', 'arrival_time_hour_minute'\n",
    "]\n",
    "\n",
    "target_column = 'tow'\n",
    "\n",
    "df = challenge_set_df[feature_columns + [target_column]]\n",
    "#display(df)\n",
    "#display(df.describe())\n",
    "#display(df.info())"
   ]
  },
  {
   "cell_type": "code",
   "execution_count": 5,
   "id": "f643b954-6c23-4953-b75d-8e6af5fb8254",
   "metadata": {},
   "outputs": [],
   "source": [
    "normalized_df = scale_data(dataframe=df, features=feature_columns, scale_type=\"Normalization\")\n",
    "#display(normalized_df)\n",
    "#display(normalized_df.describe())\n",
    "#display(normalized_df.info())"
   ]
  },
  {
   "cell_type": "code",
   "execution_count": 6,
   "id": "f9e0fc28-80ca-4fee-8c67-0ca6edaccd90",
   "metadata": {},
   "outputs": [],
   "source": [
    "standardized_df = scale_data(dataframe=df, features=feature_columns, scale_type=\"Standardization\")\n",
    "#display(standardized_df)\n",
    "#display(standardized_df.describe().round())\n",
    "#display(standardized_df.info())"
   ]
  },
  {
   "cell_type": "code",
   "execution_count": 7,
   "id": "939159d8-cf50-4763-b1e7-002e41d35c19",
   "metadata": {},
   "outputs": [
    {
     "name": "stdout",
     "output_type": "stream",
     "text": [
      "KNN with Normalization\n",
      "n = 1\n"
     ]
    },
    {
     "name": "stderr",
     "output_type": "stream",
     "text": [
      "C:\\Users\\MOHAMMEDG\\Anaconda3\\envs\\prc\\Lib\\site-packages\\joblib\\externals\\loky\\backend\\context.py:136: UserWarning: Could not find the number of physical cores for the following reason:\n",
      "found 0 physical cores < 1\n",
      "Returning the number of logical cores instead. You can silence this warning by setting LOKY_MAX_CPU_COUNT to the number of cores you want to use.\n",
      "  warnings.warn(\n",
      "  File \"C:\\Users\\MOHAMMEDG\\Anaconda3\\envs\\prc\\Lib\\site-packages\\joblib\\externals\\loky\\backend\\context.py\", line 282, in _count_physical_cores\n",
      "    raise ValueError(f\"found {cpu_count_physical} physical cores < 1\")\n"
     ]
    },
    {
     "name": "stdout",
     "output_type": "stream",
     "text": [
      "rmse_score = 9542.174884865412\n",
      "Execution time: 129.10056972503662 seconds\n",
      "\n",
      "n = 2\n",
      "rmse_score = 8548.650932308681\n",
      "Execution time: 139.13833475112915 seconds\n",
      "\n",
      "n = 3\n",
      "rmse_score = 8277.415254238866\n",
      "Execution time: 140.87728023529053 seconds\n",
      "\n",
      "n = 4\n",
      "rmse_score = 8219.39652872981\n",
      "Execution time: 141.11426711082458 seconds\n",
      "\n",
      "n = 5\n",
      "rmse_score = 8207.934188597848\n",
      "Execution time: 140.34295988082886 seconds\n",
      "\n",
      "n = 6\n",
      "rmse_score = 8223.588717174773\n",
      "Execution time: 140.4253270626068 seconds\n",
      "\n",
      "n = 7\n",
      "rmse_score = 8256.897976718734\n",
      "Execution time: 139.3944809436798 seconds\n",
      "\n",
      "n = 8\n",
      "rmse_score = 8311.202968174945\n",
      "Execution time: 139.77681708335876 seconds\n",
      "\n",
      "n = 9\n",
      "rmse_score = 8374.86285669401\n",
      "Execution time: 139.14969420433044 seconds\n",
      "\n",
      "n = 10\n",
      "rmse_score = 8419.8717898521\n",
      "Execution time: 138.96837902069092 seconds\n",
      "\n"
     ]
    },
    {
     "data": {
      "image/png": "[encoded data removed]",
      "text/plain": [
       "<Figure size 640x480 with 1 Axes>"
      ]
     },
     "metadata": {},
     "output_type": "display_data"
    }
   ],
   "source": [
    "print(\"KNN with Normalization\")\n",
    "n_s = list(range(1, 11, 1))\n",
    "normalized_rmse_scores = []\n",
    "for n in n_s:\n",
    "    print(f\"{n = }\")\n",
    "    start_time = time.time()\n",
    "    rmse_score = test_model(normalized_df, feature_columns, target_column, n)\n",
    "    normalized_rmse_scores.append(rmse_score)\n",
    "    print(f\"{rmse_score = }\")\n",
    "    print(f\"Execution time: {time.time() - start_time} seconds\")\n",
    "    print()\n",
    "\n",
    "plt.bar(n_s, normalized_rmse_scores, align='center')\n",
    "plt.title('KNN with Normalization')\n",
    "plt.xlabel('n Neighbours')\n",
    "plt.ylabel('RMSE Score')\n",
    "for i in range(len(normalized_rmse_scores)):\n",
    "    plt.hlines(normalized_rmse_scores[i], 0, n_s[i])\n",
    "plt.show()"
   ]
  },
  {
   "cell_type": "code",
   "execution_count": 8,
   "id": "81e57483-5e4d-4034-a080-61fa3efc676c",
   "metadata": {},
   "outputs": [
    {
     "name": "stdout",
     "output_type": "stream",
     "text": [
      "KNN with Standarization\n",
      "n = 1\n",
      "rmse_score = 8955.534460265557\n",
      "Execution time: 128.68510627746582 seconds\n",
      "\n",
      "n = 2\n",
      "rmse_score = 8033.001826710592\n",
      "Execution time: 141.12066841125488 seconds\n",
      "\n",
      "n = 3\n",
      "rmse_score = 7809.959302066108\n",
      "Execution time: 142.23178553581238 seconds\n",
      "\n",
      "n = 4\n",
      "rmse_score = 7727.740588677475\n",
      "Execution time: 342.00367522239685 seconds\n",
      "\n",
      "n = 5\n",
      "rmse_score = 7731.543217502255\n",
      "Execution time: 743.5617473125458 seconds\n",
      "\n",
      "n = 6\n",
      "rmse_score = 7761.158098719684\n",
      "Execution time: 773.1558902263641 seconds\n",
      "\n",
      "n = 7\n",
      "rmse_score = 7807.276956203746\n",
      "Execution time: 769.230554819107 seconds\n",
      "\n",
      "n = 8\n",
      "rmse_score = 7854.8967062187185\n",
      "Execution time: 750.7890746593475 seconds\n",
      "\n",
      "n = 9\n",
      "rmse_score = 7900.687513175276\n",
      "Execution time: 756.2081482410431 seconds\n",
      "\n",
      "n = 10\n",
      "rmse_score = 7950.6335329684625\n",
      "Execution time: 749.9560408592224 seconds\n",
      "\n"
     ]
    },
    {
     "data": {
      "image/png": "[encoded data removed]",
      "text/plain": [
       "<Figure size 640x480 with 1 Axes>"
      ]
     },
     "metadata": {},
     "output_type": "display_data"
    }
   ],
   "source": [
    "print(\"KNN with Standarization\")\n",
    "n_s = list(range(1, 11, 1))\n",
    "standardized_rmse_scores = []\n",
    "for n in n_s:\n",
    "    print(f\"{n = }\")\n",
    "    start_time = time.time()\n",
    "    rmse_score = test_model(standardized_df, feature_columns, target_column, n)\n",
    "    standardized_rmse_scores.append(rmse_score)\n",
    "    print(f\"{rmse_score = }\")\n",
    "    print(f\"Execution time: {time.time() - start_time} seconds\")\n",
    "    print()\n",
    "\n",
    "plt.bar(n_s, standardized_rmse_scores, align='center')\n",
    "plt.title('KNN with Standarization')\n",
    "plt.xlabel('n Neighbours')\n",
    "plt.ylabel('RMSE Score')\n",
    "for i in range(len(standardized_rmse_scores)):\n",
    "    plt.hlines(standardized_rmse_scores[i], 0, n_s[i])\n",
    "plt.show()"
   ]
  }
 ],
 "metadata": {
  "kernelspec": {
   "display_name": "Python 3 (ipykernel)",
   "language": "python",
   "name": "python3"
  },
  "language_info": {
   "codemirror_mode": {
    "name": "ipython",
    "version": 3
   },
   "file_extension": ".py",
   "mimetype": "text/x-python",
   "name": "python",
   "nbconvert_exporter": "python",
   "pygments_lexer": "ipython3",
   "version": "3.11.9"
  }
 },
 "nbformat": 4,
 "nbformat_minor": 5
}
