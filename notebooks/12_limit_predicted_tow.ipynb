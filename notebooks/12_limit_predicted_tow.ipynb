{
 "cells": [
  {
   "cell_type": "code",
   "execution_count": 1,
   "id": "68d8fe64-d687-422d-9ed4-f18852e36567",
   "metadata": {},
   "outputs": [],
   "source": [
    "from sklearn.model_selection import GridSearchCV, KFold, train_test_split\n",
    "from sklearn.metrics import make_scorer, mean_squared_error\n",
    "from sklearn.preprocessing import StandardScaler\n",
    "from xgboost import plot_importance\n",
    "import matplotlib.pyplot as plt\n",
    "import xgboost as xgb\n",
    "import pandas as pd\n",
    "import numpy as np\n",
    "\n",
    "pd.set_option(\"display.max_columns\", None)"
   ]
  },
  {
   "cell_type": "code",
   "execution_count": 2,
   "id": "3716d8e5-a7a3-4468-acc6-6ae49742f70b",
   "metadata": {},
   "outputs": [],
   "source": [
    "identifier_name = 'flight_id'\n",
    "\n",
    "most_important_features_names = [\n",
    "     'wtc',\n",
    "     'flown_distance',\n",
    "     'aircraft_type',\n",
    "     'longitude_max',\n",
    "     'altitude_median',\n",
    "     'groundspeed_max',\n",
    "     'airline',\n",
    "     'groundspeed_75percentile',\n",
    "     'altitude_25percentile',\n",
    "     'flight_duration',\n",
    "     'latitude_min',\n",
    "     'vertical_rate_std',\n",
    "     'altitude_75percentile',\n",
    "     'longitude_median',\n",
    "     'longitude_std',\n",
    "     'vertical_rate_25percentile',\n",
    "     'longitude_min',\n",
    "     'longitude_mean',\n",
    "     'adep',\n",
    "     'vertical_rate_max',\n",
    "     'ades',\n",
    "     'latitude_std',\n",
    "     'latitude_max',\n",
    "     'longitude_25percentile',\n",
    "     'altitude_mean',\n",
    "     'latitude_mean',\n",
    "     'vertical_rate_75percentile',\n",
    "     'latitude_median',\n",
    "     'groundspeed_min',\n",
    "     'country_code_adep',\n",
    "     'country_code_ades',\n",
    "     'latitude_25percentile',\n",
    "     'longitude_count',\n",
    "     'groundspeed_25percentile',\n",
    "     'vertical_rate_min',\n",
    "     'longitude_75percentile',\n",
    "     'track_75percentile',\n",
    "     'taxiout_time',\n",
    "     'track_median',\n",
    "     'vertical_rate_median',\n",
    "     'latitude_75percentile',\n",
    "     'track_25percentile',\n",
    "     'month_day',\n",
    "     'latitude_count',\n",
    "     'altitude_std',\n",
    "     'arrival_time_hour',\n",
    "     'track_mean',\n",
    "     'arrival_time_hour_minute',\n",
    "     'vertical_rate_mean'\n",
    "]\n",
    "\n",
    "target_name = 'tow'\n",
    "\n",
    "global_random_state = 123"
   ]
  },
  {
   "cell_type": "code",
   "execution_count": 3,
   "id": "976b24b9-5806-4b6d-a888-66080f6e9500",
   "metadata": {},
   "outputs": [],
   "source": [
    "def rmse(y_true, y_pred):\n",
    "    return np.sqrt(mean_squared_error(y_true, y_pred))"
   ]
  },
  {
   "cell_type": "code",
   "execution_count": 4,
   "id": "4637639b-5e44-4626-8921-ffdfb72a64fb",
   "metadata": {},
   "outputs": [],
   "source": [
    "def evaluate_model(model, data_df, features_columns, target_column):\n",
    "    k_fold_number = 1\n",
    "    features = data_df[features_columns]\n",
    "    target = data_df[target_column]\n",
    "    X_array = features.values\n",
    "    y_array = target.values\n",
    "    rmse_scores = []\n",
    "    kf = KFold(n_splits=3, shuffle=True, random_state=global_random_state)\n",
    "    for train_index, test_index in kf.split(X_array):\n",
    "        print(\"Evaluating k-fold number: \", k_fold_number)\n",
    "        X_train, X_test = features.iloc[train_index], features.iloc[test_index]\n",
    "        y_train, y_test = target.iloc[train_index], target.iloc[test_index]\n",
    "        model.fit(X_train, y_train)\n",
    "        y_pred = model.predict(X_test)\n",
    "        rmse_scores.append(rmse(y_test, y_pred))\n",
    "        k_fold_number += 1\n",
    "    return np.mean(rmse_scores)"
   ]
  },
  {
   "cell_type": "code",
   "execution_count": 5,
   "id": "359dfd84-99b9-45e8-9bc3-14025676fdb9",
   "metadata": {},
   "outputs": [],
   "source": [
    "encoded_challenge_set = pd.read_csv('data/encoded_challenge_set.csv')"
   ]
  },
  {
   "cell_type": "code",
   "execution_count": 6,
   "id": "18b8e5ec-7cd7-4182-9d4d-b4e0a9ec3c1d",
   "metadata": {},
   "outputs": [],
   "source": [
    "def calculate_stat(\n",
    "    dataframe: pd.DataFrame, \n",
    "    group_by_column: str, \n",
    "    target_column: str,\n",
    "    stat_type: str\n",
    ") -> pd.Series | None:\n",
    "    group = dataframe.groupby(group_by_column)[target_column]\n",
    "    if stat_type == 'count':\n",
    "        return group.size()\n",
    "    elif stat_type == 'mean':\n",
    "        return group.mean()\n",
    "    elif stat_type == 'std':\n",
    "        return group.std()\n",
    "    elif stat_type == 'min':\n",
    "        return group.min()\n",
    "    elif stat_type == '25percentile':\n",
    "        return group.quantile(0.25)\n",
    "    elif stat_type == 'median':\n",
    "        return group.median()\n",
    "    elif stat_type == '75percentile':\n",
    "        return group.quantile(0.75)\n",
    "    elif stat_type == 'max':\n",
    "        return group.max()\n",
    "    return None"
   ]
  },
  {
   "cell_type": "code",
   "execution_count": 7,
   "id": "8dd90f99-bec9-43b6-aa0b-9d3d160ce31d",
   "metadata": {},
   "outputs": [],
   "source": [
    "def summarize_by_aircraft_type(\n",
    "    data_df: pd.DataFrame,\n",
    "    stat_types: list = ['count', 'mean', 'std', 'min', '25percentile', 'median', '75percentile', 'max']\n",
    ") -> dict[int, dict]:\n",
    "    stats_by_aircraft_df = {}\n",
    "    for aircraft_type in sorted(list(data_df['aircraft_type'].unique())):\n",
    "        stats_by_aircraft_df[aircraft_type] = {}\n",
    "\n",
    "    for stat_type in stat_types:\n",
    "        stat_by_aircraft = calculate_stat(dataframe=data_df, group_by_column='aircraft_type', target_column='tow', stat_type=stat_type)\n",
    "        for i, value in enumerate(stat_by_aircraft):\n",
    "            stats_by_aircraft_df[stat_by_aircraft.index[i]][stat_type] = value\n",
    "    \n",
    "    return stats_by_aircraft_df"
   ]
  },
  {
   "cell_type": "code",
   "execution_count": 8,
   "id": "b8e85aaf-2550-4da1-9b5f-426cc0be17ef",
   "metadata": {},
   "outputs": [
    {
     "name": "stdout",
     "output_type": "stream",
     "text": [
      "total_count_before_summarization = 369013\n",
      "total_count_after_summarization = 369013\n"
     ]
    }
   ],
   "source": [
    "stats_by_aircraft_df = summarize_by_aircraft_type(\n",
    "    data_df=encoded_challenge_set[most_important_features_names+[target_name]]\n",
    ")\n",
    "\n",
    "total_count_before_summarization = len(encoded_challenge_set)\n",
    "print(f\"{total_count_before_summarization = }\")\n",
    "\n",
    "total_count_after_summarization = 0\n",
    "for aircraft_type, aircraft_stats in stats_by_aircraft_df.items():\n",
    "    total_count_after_summarization += aircraft_stats['count']\n",
    "print(f\"{total_count_after_summarization = }\")"
   ]
  },
  {
   "cell_type": "code",
   "execution_count": 9,
   "id": "bbb8417d-87e2-41eb-b96a-34d62e0ac12c",
   "metadata": {},
   "outputs": [],
   "source": [
    "def evaluate_model_with_limit(model, data_df, features_columns, target_column, stats_by_aircraft_df):\n",
    "    k_fold_number = 1\n",
    "    features = data_df[features_columns]\n",
    "    target = data_df[target_column]\n",
    "    X_array = features.values\n",
    "    y_array = target.values\n",
    "    before_rmse_scores = []\n",
    "    \n",
    "    min_max_corrected_rmse_scores = []\n",
    "    percentile_corrected_rmse_scores = []\n",
    "    mean_std_median_corrected_rmse_scores = []\n",
    "    \n",
    "    kf = KFold(n_splits=3, shuffle=True, random_state=global_random_state)\n",
    "    for train_index, test_index in kf.split(X_array):\n",
    "        print(\"Evaluating k-fold number: \", k_fold_number)\n",
    "        X_train, X_test = features.iloc[train_index], features.iloc[test_index]\n",
    "        y_train, y_test = target.iloc[train_index], target.iloc[test_index]\n",
    "        model.fit(X_train, y_train)\n",
    "        y_pred = model.predict(X_test)\n",
    "        before_rmse_scores.append(rmse(y_test, y_pred))\n",
    "\n",
    "        min_max_corrected = []\n",
    "        percentile_corrected = []\n",
    "        mean_std_median_corrected = []\n",
    "        for i, aircraft_type in enumerate(X_test['aircraft_type']):\n",
    "            predicted_value = y_pred[i]\n",
    "\n",
    "            # Correct for min and max per aircraft type\n",
    "            min_limit, max_limit = stats_by_aircraft_df[aircraft_type]['min'], stats_by_aircraft_df[aircraft_type]['max']\n",
    "            if predicted_value < min_limit:\n",
    "                min_max_corrected.append(min_limit) \n",
    "            elif predicted_value > max_limit:\n",
    "                min_max_corrected.append(max_limit)\n",
    "            else:\n",
    "                min_max_corrected.append(predicted_value)\n",
    "\n",
    "            # Correct for 25 and 75 percentile per aircraft type\n",
    "            min_percentile_limit = stats_by_aircraft_df[aircraft_type]['25percentile']\n",
    "            max_percentile_limit = stats_by_aircraft_df[aircraft_type]['75percentile']\n",
    "            if predicted_value < min_percentile_limit:\n",
    "                percentile_corrected.append(min_percentile_limit) \n",
    "            elif predicted_value > max_percentile_limit:\n",
    "                percentile_corrected.append(max_percentile_limit)\n",
    "            else:\n",
    "                percentile_corrected.append(predicted_value)\n",
    "\n",
    "            # Correct for mean, std, and media per aircraft type\n",
    "            mean = stats_by_aircraft_df[aircraft_type]['mean']\n",
    "            std = stats_by_aircraft_df[aircraft_type]['std']\n",
    "            median = stats_by_aircraft_df[aircraft_type]['median']\n",
    "            correction_max = np.max([mean, std, median])\n",
    "            correction_min = np.min([mean, std, median])\n",
    "            if predicted_value < correction_min:\n",
    "                mean_std_median_corrected.append(correction_min) \n",
    "            elif predicted_value > correction_max:\n",
    "                mean_std_median_corrected.append(correction_max) \n",
    "            else:\n",
    "                mean_std_median_corrected.append(predicted_value)\n",
    "        \n",
    "        min_max_corrected_rmse_scores.append(rmse(y_test, np.array(min_max_corrected)))\n",
    "        percentile_corrected_rmse_scores.append(rmse(y_test, np.array(percentile_corrected)))\n",
    "        mean_std_median_corrected_rmse_scores.append(rmse(y_test, np.array(mean_std_median_corrected)))\n",
    "        \n",
    "        k_fold_number += 1\n",
    "        \n",
    "    return np.mean(before_rmse_scores), np.mean(min_max_corrected_rmse_scores), np.mean(percentile_corrected_rmse_scores), np.mean(mean_std_median_corrected_rmse_scores)\n",
    "    "
   ]
  },
  {
   "cell_type": "code",
   "execution_count": 10,
   "id": "cce3f1ed-cc58-4313-9a48-8d1ec46ead6d",
   "metadata": {},
   "outputs": [
    {
     "name": "stdout",
     "output_type": "stream",
     "text": [
      "Evaluating k-fold number:  1\n",
      "Evaluating k-fold number:  2\n",
      "Evaluating k-fold number:  3\n"
     ]
    }
   ],
   "source": [
    "xgb_model = xgb.XGBRegressor(\n",
    "    max_depth=9,\n",
    "    n_estimators=3000,\n",
    "    learning_rate=0.1,\n",
    "    subsample=1.0,\n",
    "    colsample_bytree=0.8,\n",
    "    objective='reg:squarederror', \n",
    "    eval_metric='rmse',\n",
    "    random_state=global_random_state\n",
    ")\n",
    "\n",
    "before_rmse_scores, min_max_corrected_rmse_scores, percentile_corrected_rmse_scores, mean_std_median_corrected_rmse_scores = evaluate_model_with_limit(\n",
    "    model=xgb_model, \n",
    "    data_df=encoded_challenge_set, \n",
    "    features_columns=most_important_features_names, \n",
    "    target_column=target_name,\n",
    "    stats_by_aircraft_df=stats_by_aircraft_df\n",
    ")"
   ]
  },
  {
   "cell_type": "code",
   "execution_count": 11,
   "id": "33700fa8-3ef1-4aac-a43c-40a2e45dab2e",
   "metadata": {},
   "outputs": [
    {
     "name": "stdout",
     "output_type": "stream",
     "text": [
      "before_rmse_scores = 2771.52439347872\n",
      "min_max_corrected_rmse_scores = 2759.0006563240963\n",
      "percentile_corrected_rmse_scores = 5386.340891878303\n",
      "mean_std_median_corrected_rmse_scores = 8215.151384350223\n"
     ]
    }
   ],
   "source": [
    "print(f\"{before_rmse_scores = }\")\n",
    "print(f\"{min_max_corrected_rmse_scores = }\")\n",
    "print(f\"{percentile_corrected_rmse_scores = }\")\n",
    "print(f\"{mean_std_median_corrected_rmse_scores = }\")"
   ]
  }
 ],
 "metadata": {
  "kernelspec": {
   "display_name": "Python 3 (ipykernel)",
   "language": "python",
   "name": "python3"
  },
  "language_info": {
   "codemirror_mode": {
    "name": "ipython",
    "version": 3
   },
   "file_extension": ".py",
   "mimetype": "text/x-python",
   "name": "python",
   "nbconvert_exporter": "python",
   "pygments_lexer": "ipython3",
   "version": "3.11.9"
  }
 },
 "nbformat": 4,
 "nbformat_minor": 5
}
