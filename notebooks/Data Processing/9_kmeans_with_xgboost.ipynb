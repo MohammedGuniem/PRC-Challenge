{
 "cells": [
  {
   "cell_type": "code",
   "execution_count": 1,
   "id": "39f3270b-bcf5-4594-b90b-78cd2d06191b",
   "metadata": {},
   "outputs": [],
   "source": [
    "from sklearn.model_selection import cross_val_score, KFold\n",
    "from sklearn.preprocessing import StandardScaler\n",
    "from sklearn.cluster import KMeans\n",
    "import matplotlib.pyplot as plt\n",
    "import xgboost as xgb\n",
    "import pandas as pd\n",
    "import numpy as np"
   ]
  },
  {
   "cell_type": "code",
   "execution_count": 2,
   "id": "96da876c-39a1-4e7b-bedc-e04645282c91",
   "metadata": {},
   "outputs": [],
   "source": [
    "identifier_name = 'flight_id'\n",
    "\n",
    "top_features_names = [\n",
    "    'wtc', \n",
    "    'flown_distance', \n",
    "    'aircraft_type', \n",
    "    'groundspeed_max', \n",
    "    'airline', \n",
    "    'altitude_max', \n",
    "    'flight_duration', \n",
    "    'latitude_max', \n",
    "    'ades', \n",
    "    'adep', \n",
    "    'altitude_75percentile', \n",
    "    'altitude_median', \n",
    "    'longitude_max', \n",
    "    'vertical_rate_max', \n",
    "    'country_code_ades', \n",
    "    'longitude_min', \n",
    "    'latitude_min', \n",
    "    'vertical_rate_std', \n",
    "    'country_code_adep', \n",
    "    'longitude_std', \n",
    "    'altitude_25percentile', \n",
    "    'vertical_rate_75percentile', \n",
    "    'month', \n",
    "    'vertical_rate_25percentile', \n",
    "    'groundspeed_min', \n",
    "    'longitude_25percentile', \n",
    "    'latitude_25percentile', \n",
    "    'latitude_75percentile', \n",
    "    'taxiout_time', \n",
    "    'longitude_mean', \n",
    "    'longitude_median', \n",
    "    'month_day', \n",
    "    'latitude_mean', \n",
    "    'track_median', \n",
    "    'latitude_count', \n",
    "    'latitude_std', \n",
    "    'arrival_time_hour_minute', \n",
    "    'latitude_median', \n",
    "    'longitude_75percentile', \n",
    "    'track_75percentile', \n",
    "    'altitude_mean', \n",
    "    'temperature_min', \n",
    "    'actual_offblock_time_hour', \n",
    "    'vertical_rate_median', \n",
    "    'track_25percentile', \n",
    "    'vertical_rate_mean', \n",
    "    'arrival_time_hour'\n",
    "]\n",
    "\n",
    "target_name = 'tow'\n",
    "\n",
    "global_random_state = 123"
   ]
  },
  {
   "cell_type": "code",
   "execution_count": 3,
   "id": "79cc23b8-e35b-4f78-81f4-2908707e0b9e",
   "metadata": {},
   "outputs": [],
   "source": [
    "encoded_challenge_set = pd.read_csv('data/encoded_challenge_set.csv')\n",
    "encoded_challenge_set = encoded_challenge_set.fillna(0)\n",
    "df = encoded_challenge_set[top_features_names+[target_name]]"
   ]
  },
  {
   "cell_type": "code",
   "execution_count": 4,
   "id": "7ca6151d-0e98-4cb2-90d0-bd5b2a7ccc25",
   "metadata": {},
   "outputs": [
    {
     "name": "stdout",
     "output_type": "stream",
     "text": [
      "Trying n_clusters: 1...\n",
      "---> cluster number: 0, has 369013 datapoint making 100.00% of original dataset, MSE: 9820179.7683, RMSE: 3133.7166062498654\n",
      "***n_clusters=1: 0, MSE: 9820179.7683, RMSE: 3133.7166062498654\n",
      "\n",
      "Trying n_clusters: 2...\n",
      "---> cluster number: 0, has 228379 datapoint making 61.89% of original dataset, MSE: 11668021.7487, RMSE: 3415.8486132564876\n",
      "---> cluster number: 1, has 140634 datapoint making 38.11% of original dataset, MSE: 7166674.1691, RMSE: 2677.0644686090363\n",
      "***n_clusters=2: 1, MSE: 9417347.9589, RMSE: 3046.456540932762\n",
      "\n",
      "Trying n_clusters: 3...\n",
      "---> cluster number: 0, has 53751 datapoint making 14.57% of original dataset, MSE: 9407271.3114, RMSE: 3067.1275342551867\n",
      "---> cluster number: 1, has 163908 datapoint making 44.42% of original dataset, MSE: 13565536.1446, RMSE: 3683.1421564521147\n",
      "---> cluster number: 2, has 151354 datapoint making 41.02% of original dataset, MSE: 7172247.1326, RMSE: 2678.1051384583798\n",
      "***n_clusters=3: 2, MSE: 10048351.5296, RMSE: 3142.7916097218936\n",
      "\n",
      "Trying n_clusters: 4...\n",
      "---> cluster number: 0, has 98480 datapoint making 26.69% of original dataset, MSE: 7009645.1522, RMSE: 2647.573446052271\n",
      "---> cluster number: 1, has 111505 datapoint making 30.22% of original dataset, MSE: 16101253.5293, RMSE: 4012.6367302947424\n",
      "---> cluster number: 2, has 124129 datapoint making 33.64% of original dataset, MSE: 8952551.7593, RMSE: 2992.081509469816\n",
      "---> cluster number: 3, has 34899 datapoint making 9.46% of original dataset, MSE: 11768056.3705, RMSE: 3430.4600814665787\n",
      "***n_clusters=4: 3, MSE: 10957876.7028, RMSE: 3270.687941820852\n",
      "\n",
      "Trying n_clusters: 5...\n",
      "---> cluster number: 0, has 97848 datapoint making 26.52% of original dataset, MSE: 6997921.4624, RMSE: 2645.3584752075612\n",
      "---> cluster number: 1, has 111564 datapoint making 30.23% of original dataset, MSE: 15898572.9620, RMSE: 3987.301463643483\n",
      "---> cluster number: 2, has 123796 datapoint making 33.55% of original dataset, MSE: 8695720.7713, RMSE: 2948.850754322767\n",
      "---> cluster number: 3, has 34726 datapoint making 9.41% of original dataset, MSE: 11239809.5980, RMSE: 3352.5825266497886\n",
      "---> cluster number: 4, has 1079 datapoint making 0.29% of original dataset, MSE: 13081993.5668, RMSE: 3616.9038647448524\n",
      "***n_clusters=5: 4, MSE: 11182803.6721, RMSE: 3310.19941691369\n",
      "\n",
      "Trying n_clusters: 6...\n",
      "---> cluster number: 0, has 66379 datapoint making 17.99% of original dataset, MSE: 7937630.8185, RMSE: 2817.3801338375047\n",
      "---> cluster number: 1, has 87464 datapoint making 23.70% of original dataset, MSE: 18027272.9868, RMSE: 4245.85362286892\n",
      "---> cluster number: 2, has 99667 datapoint making 27.01% of original dataset, MSE: 10157662.2180, RMSE: 3187.1087552844983\n",
      "---> cluster number: 3, has 30064 datapoint making 8.15% of original dataset, MSE: 11676871.8102, RMSE: 3417.143808821945\n",
      "---> cluster number: 4, has 1079 datapoint making 0.29% of original dataset, MSE: 13081993.5668, RMSE: 3616.9038647448524\n",
      "---> cluster number: 5, has 84360 datapoint making 22.86% of original dataset, MSE: 7334723.1199, RMSE: 2708.2693957343163\n",
      "***n_clusters=6: 5, MSE: 11369359.0867, RMSE: 3332.1099302153393\n",
      "\n",
      "Trying n_clusters: 7...\n",
      "---> cluster number: 0, has 65931 datapoint making 17.87% of original dataset, MSE: 7914772.6314, RMSE: 2813.320570326812\n",
      "---> cluster number: 1, has 86954 datapoint making 23.56% of original dataset, MSE: 17568475.6002, RMSE: 4191.476541769747\n",
      "---> cluster number: 2, has 98858 datapoint making 26.79% of original dataset, MSE: 10223440.6996, RMSE: 3197.4115624431975\n",
      "---> cluster number: 3, has 30025 datapoint making 8.14% of original dataset, MSE: 12481601.5391, RMSE: 3532.9310124975405\n",
      "---> cluster number: 4, has 1078 datapoint making 0.29% of original dataset, MSE: 14135032.5433, RMSE: 3759.6585673812574\n",
      "---> cluster number: 5, has 83869 datapoint making 22.73% of original dataset, MSE: 7374046.7942, RMSE: 2715.519617709594\n",
      "---> cluster number: 6, has 2298 datapoint making 0.62% of original dataset, MSE: 65757003.4830, RMSE: 8109.069211877148\n",
      "***n_clusters=7: 6, MSE: 19350624.7558, RMSE: 4045.626726286471\n",
      "\n",
      "Trying n_clusters: 8...\n",
      "---> cluster number: 0, has 83392 datapoint making 22.60% of original dataset, MSE: 7206592.7474, RMSE: 2684.5097778459267\n",
      "---> cluster number: 1, has 88106 datapoint making 23.88% of original dataset, MSE: 17296123.2422, RMSE: 4158.860810626748\n",
      "---> cluster number: 2, has 29799 datapoint making 8.08% of original dataset, MSE: 11734435.1641, RMSE: 3425.5561831706614\n",
      "---> cluster number: 3, has 99522 datapoint making 26.97% of original dataset, MSE: 10209824.6146, RMSE: 3195.281617423051\n",
      "---> cluster number: 4, has 266 datapoint making 0.07% of original dataset, MSE: 62956079.7207, RMSE: 7934.4867332851045\n",
      "---> cluster number: 5, has 2298 datapoint making 0.62% of original dataset, MSE: 69209804.0876, RMSE: 8319.24299967263\n",
      "---> cluster number: 6, has 64778 datapoint making 17.55% of original dataset, MSE: 7830813.6437, RMSE: 2798.3590984129632\n",
      "---> cluster number: 7, has 852 datapoint making 0.23% of original dataset, MSE: 10506960.2590, RMSE: 3241.444162562003\n",
      "***n_clusters=8: 7, MSE: 24618829.1849, RMSE: 4469.7176728748855\n",
      "\n",
      "Trying n_clusters: 9...\n",
      "---> cluster number: 0, has 70983 datapoint making 19.24% of original dataset, MSE: 7060315.2562, RMSE: 2657.125374572249\n",
      "---> cluster number: 1, has 77413 datapoint making 20.98% of original dataset, MSE: 18388222.1740, RMSE: 4288.149038220793\n",
      "---> cluster number: 2, has 16341 datapoint making 4.43% of original dataset, MSE: 14380054.4936, RMSE: 3792.1042303223617\n",
      "---> cluster number: 3, has 80921 datapoint making 21.93% of original dataset, MSE: 8112304.9147, RMSE: 2848.2108269339997\n",
      "---> cluster number: 4, has 266 datapoint making 0.07% of original dataset, MSE: 62956079.7207, RMSE: 7934.4867332851045\n",
      "---> cluster number: 5, has 2303 datapoint making 0.62% of original dataset, MSE: 77917302.9638, RMSE: 8827.077826993034\n",
      "---> cluster number: 6, has 34014 datapoint making 9.22% of original dataset, MSE: 10629481.1263, RMSE: 3260.288503530741\n",
      "---> cluster number: 7, has 852 datapoint making 0.23% of original dataset, MSE: 10506960.2590, RMSE: 3241.444162562003\n",
      "---> cluster number: 8, has 85920 datapoint making 23.28% of original dataset, MSE: 10937300.8989, RMSE: 3307.159037436133\n",
      "***n_clusters=9: 8, MSE: 24543113.5341, RMSE: 4461.78285931738\n",
      "\n",
      "Trying n_clusters: 10...\n",
      "---> cluster number: 0, has 70992 datapoint making 19.24% of original dataset, MSE: 7074755.4243, RMSE: 2659.841240426815\n",
      "---> cluster number: 1, has 77207 datapoint making 20.92% of original dataset, MSE: 18414282.3733, RMSE: 4291.1865926965\n",
      "---> cluster number: 2, has 16315 datapoint making 4.42% of original dataset, MSE: 18540795.9744, RMSE: 4305.902457603223\n",
      "---> cluster number: 3, has 80854 datapoint making 21.91% of original dataset, MSE: 8251141.2411, RMSE: 2872.479980969898\n",
      "---> cluster number: 4, has 266 datapoint making 0.07% of original dataset, MSE: 62956079.7207, RMSE: 7934.4867332851045\n",
      "---> cluster number: 5, has 1376 datapoint making 0.37% of original dataset, MSE: 105514526.1059, RMSE: 10272.02638752045\n",
      "---> cluster number: 6, has 33990 datapoint making 9.21% of original dataset, MSE: 9523135.1396, RMSE: 3085.957734584312\n",
      "---> cluster number: 7, has 852 datapoint making 0.23% of original dataset, MSE: 10506960.2590, RMSE: 3241.444162562003\n",
      "---> cluster number: 8, has 85704 datapoint making 23.23% of original dataset, MSE: 11136838.7528, RMSE: 3337.190248212847\n",
      "---> cluster number: 9, has 1457 datapoint making 0.39% of original dataset, MSE: 88268646.0256, RMSE: 9395.139489418332\n",
      "***n_clusters=10: 9, MSE: 34018716.1017, RMSE: 5139.565502727948\n",
      "\n",
      "Trying n_clusters: 11...\n",
      "---> cluster number: 0, has 52028 datapoint making 14.10% of original dataset, MSE: 8435463.0940, RMSE: 2904.386870579762\n",
      "---> cluster number: 1, has 68773 datapoint making 18.64% of original dataset, MSE: 19461427.9345, RMSE: 4411.510844879106\n",
      "---> cluster number: 2, has 10220 datapoint making 2.77% of original dataset, MSE: 25857408.7761, RMSE: 5085.018070382774\n",
      "---> cluster number: 3, has 71656 datapoint making 19.42% of original dataset, MSE: 9532113.8102, RMSE: 3087.412154242502\n",
      "---> cluster number: 4, has 266 datapoint making 0.07% of original dataset, MSE: 62956079.7207, RMSE: 7934.4867332851045\n",
      "---> cluster number: 5, has 1372 datapoint making 0.37% of original dataset, MSE: 117233858.8099, RMSE: 10827.458557291011\n",
      "---> cluster number: 6, has 25709 datapoint making 6.97% of original dataset, MSE: 9518911.9813, RMSE: 3085.273404626\n",
      "---> cluster number: 7, has 852 datapoint making 0.23% of original dataset, MSE: 10506960.2590, RMSE: 3241.444162562003\n",
      "---> cluster number: 8, has 72691 datapoint making 19.70% of original dataset, MSE: 11851254.0310, RMSE: 3442.5650365630836\n",
      "---> cluster number: 9, has 1456 datapoint making 0.39% of original dataset, MSE: 102181892.2590, RMSE: 10108.505936040734\n",
      "---> cluster number: 10, has 63990 datapoint making 17.34% of original dataset, MSE: 7662815.8473, RMSE: 2768.1791573708874\n",
      "***n_clusters=11: 10, MSE: 35018016.9566, RMSE: 5172.385538892997\n",
      "\n",
      "Trying n_clusters: 12...\n",
      "---> cluster number: 0, has 52029 datapoint making 14.10% of original dataset, MSE: 8429571.8448, RMSE: 2903.3724950190413\n",
      "---> cluster number: 1, has 68773 datapoint making 18.64% of original dataset, MSE: 19461427.9345, RMSE: 4411.510844879106\n",
      "---> cluster number: 2, has 10220 datapoint making 2.77% of original dataset, MSE: 25857408.7761, RMSE: 5085.018070382774\n",
      "---> cluster number: 3, has 71656 datapoint making 19.42% of original dataset, MSE: 9532113.8102, RMSE: 3087.412154242502\n",
      "---> cluster number: 4, has 292 datapoint making 0.08% of original dataset, MSE: 31831141.8844, RMSE: 5641.909418308919\n",
      "---> cluster number: 5, has 1372 datapoint making 0.37% of original dataset, MSE: 117233858.8099, RMSE: 10827.458557291011\n",
      "---> cluster number: 6, has 25709 datapoint making 6.97% of original dataset, MSE: 9518911.9813, RMSE: 3085.273404626\n",
      "---> cluster number: 7, has 827 datapoint making 0.22% of original dataset, MSE: 5557568.1711, RMSE: 2357.449505525071\n",
      "---> cluster number: 8, has 72688 datapoint making 19.70% of original dataset, MSE: 11585016.3644, RMSE: 3403.6768889594937\n",
      "---> cluster number: 9, has 1456 datapoint making 0.39% of original dataset, MSE: 102181892.2590, RMSE: 10108.505936040734\n",
      "---> cluster number: 10, has 63988 datapoint making 17.34% of original dataset, MSE: 7387344.7545, RMSE: 2717.967026021385\n",
      "---> cluster number: 11, has 3 datapoint making 0.00% of original dataset, MSE: 1987419246.1687, RMSE: 44580.480551118795\n",
      "***n_clusters=12: 11, MSE: 194666291.8966, RMSE: 8184.169571034569\n",
      "\n",
      "Trying n_clusters: 13...\n",
      "---> cluster number: 0, has 49913 datapoint making 13.53% of original dataset, MSE: 7739809.7225, RMSE: 2782.0513515250727\n",
      "---> cluster number: 1, has 64371 datapoint making 17.44% of original dataset, MSE: 19615852.7612, RMSE: 4428.978749234393\n",
      "---> cluster number: 2, has 8893 datapoint making 2.41% of original dataset, MSE: 22033408.3962, RMSE: 4693.975755819767\n",
      "---> cluster number: 3, has 63482 datapoint making 17.20% of original dataset, MSE: 10641901.0488, RMSE: 3262.1926749959152\n",
      "---> cluster number: 4, has 292 datapoint making 0.08% of original dataset, MSE: 31831141.8844, RMSE: 5641.909418308919\n",
      "---> cluster number: 5, has 1369 datapoint making 0.37% of original dataset, MSE: 107219166.6224, RMSE: 10354.668832094589\n",
      "---> cluster number: 6, has 22610 datapoint making 6.13% of original dataset, MSE: 9656394.4023, RMSE: 3107.4739584199033\n",
      "---> cluster number: 7, has 827 datapoint making 0.22% of original dataset, MSE: 5557568.1711, RMSE: 2357.449505525071\n",
      "---> cluster number: 8, has 65854 datapoint making 17.85% of original dataset, MSE: 12364494.2106, RMSE: 3516.3182749233233\n",
      "---> cluster number: 9, has 1456 datapoint making 0.39% of original dataset, MSE: 102181892.2590, RMSE: 10108.505936040734\n",
      "---> cluster number: 10, has 55493 datapoint making 15.04% of original dataset, MSE: 7781466.6024, RMSE: 2789.5280250272885\n",
      "---> cluster number: 11, has 3 datapoint making 0.00% of original dataset, MSE: 1987419246.1687, RMSE: 44580.480551118795\n",
      "---> cluster number: 12, has 34450 datapoint making 9.34% of original dataset, MSE: 11059452.0519, RMSE: 3325.575446732698\n",
      "***n_clusters=13: 12, MSE: 179623214.9463, RMSE: 7765.316036905113\n",
      "\n",
      "Trying n_clusters: 14...\n",
      "---> cluster number: 0, has 47015 datapoint making 12.74% of original dataset, MSE: 7403958.2839, RMSE: 2721.0215515239915\n",
      "---> cluster number: 1, has 43057 datapoint making 11.67% of original dataset, MSE: 23419059.0185, RMSE: 4839.3242315902235\n",
      "---> cluster number: 2, has 8640 datapoint making 2.34% of original dataset, MSE: 29448037.9522, RMSE: 5426.604643067486\n",
      "---> cluster number: 3, has 58676 datapoint making 15.90% of original dataset, MSE: 12536102.7922, RMSE: 3540.635930474777\n",
      "---> cluster number: 4, has 292 datapoint making 0.08% of original dataset, MSE: 31831141.8844, RMSE: 5641.909418308919\n",
      "---> cluster number: 5, has 1368 datapoint making 0.37% of original dataset, MSE: 102229140.4393, RMSE: 10110.842716576017\n",
      "---> cluster number: 6, has 29564 datapoint making 8.01% of original dataset, MSE: 10711006.5554, RMSE: 3272.7674154178167\n",
      "---> cluster number: 7, has 827 datapoint making 0.22% of original dataset, MSE: 5557568.1711, RMSE: 2357.449505525071\n",
      "---> cluster number: 8, has 46850 datapoint making 12.70% of original dataset, MSE: 15396767.4295, RMSE: 3923.8714848379454\n",
      "---> cluster number: 9, has 1455 datapoint making 0.39% of original dataset, MSE: 101046508.7087, RMSE: 10052.189249547922\n",
      "---> cluster number: 10, has 57706 datapoint making 15.64% of original dataset, MSE: 10079640.1649, RMSE: 3174.8449040689657\n",
      "---> cluster number: 11, has 3 datapoint making 0.00% of original dataset, MSE: 1987419246.1687, RMSE: 44580.480551118795\n",
      "---> cluster number: 12, has 51830 datapoint making 14.05% of original dataset, MSE: 7241424.2087, RMSE: 2690.9894478919323\n",
      "---> cluster number: 13, has 21730 datapoint making 5.89% of original dataset, MSE: 11048227.8018, RMSE: 3323.887453232767\n",
      "***n_clusters=14: 13, MSE: 168240559.2557, RMSE: 7546.915607370188\n",
      "\n"
     ]
    }
   ],
   "source": [
    "all_mse = []\n",
    "all_rmse = []\n",
    "n_clusters = list(range(1, 15, 1))\n",
    "\n",
    "for n in n_clusters:\n",
    "    print(f\"Trying n_clusters: {n}...\")\n",
    "    \n",
    "    #scaler = StandardScaler()\n",
    "    #df_scaled = scaler.fit_transform(data_df)\n",
    "    \n",
    "    data_df = df.copy()\n",
    "    kmeans = KMeans(n_clusters=n, random_state=global_random_state)\n",
    "    data_df['cluster'] = kmeans.fit_predict(data_df[top_features_names])\n",
    "\n",
    "    mean_mse_score = []\n",
    "    mean_rmse_score = []\n",
    "    for cluster_nr in range(0, n, 1):\n",
    "        cluster_df = data_df[data_df['cluster'] == cluster_nr]\n",
    "        \n",
    "        X = cluster_df[top_features_names]\n",
    "        y = cluster_df[target_name]\n",
    "        if cluster_df.empty:\n",
    "            print(f\"---> No samples in this cluster number: {cluster_nr}\")\n",
    "            continue\n",
    "\n",
    "        model = xgb.XGBRegressor(\n",
    "            colsample_bytree=1.0,\n",
    "            learning_rate=0.1, \n",
    "            max_depth=10, \n",
    "            n_estimators=91, \n",
    "            subsample=1.0,\n",
    "            objective='reg:squarederror', \n",
    "            eval_metric='rmse',\n",
    "            random_state=global_random_state\n",
    "        )\n",
    "        \n",
    "        kf = KFold(n_splits=3, shuffle=True, random_state=global_random_state)\n",
    "        scores = cross_val_score(model, X, y, cv=kf, scoring='neg_mean_squared_error')\n",
    "        mse_scores = -scores\n",
    "        mean_mse = np.mean(mse_scores)\n",
    "        mean_mse_score.append(mean_mse)\n",
    "        rmse = np.sqrt(mean_mse)\n",
    "        mean_rmse_score.append(rmse)\n",
    "        print(f'---> cluster number: {cluster_nr}, has {len(cluster_df)} datapoint making {(len(cluster_df)/len(data_df))*100:.2f}% of original dataset, MSE: {mean_mse:.4f}, RMSE: {rmse}')\n",
    "\n",
    "    n_clusters_mse_score = np.mean(mean_mse_score)\n",
    "    all_mse.append(n_clusters_mse_score)\n",
    "    n_clusters_rmse_score = np.mean(mean_rmse_score)\n",
    "    all_rmse.append(n_clusters_rmse_score)\n",
    "    print(f'***n_clusters={n}: {cluster_nr}, MSE: {n_clusters_mse_score:.4f}, RMSE: {n_clusters_rmse_score}\\n')"
   ]
  },
  {
   "cell_type": "code",
   "execution_count": 5,
   "id": "3da47376-7f69-4db3-b2e5-780b975cfa06",
   "metadata": {},
   "outputs": [
    {
     "data": {
      "image/png": "[encoded data removed]",
      "text/plain": [
       "<Figure size 640x480 with 1 Axes>"
      ]
     },
     "metadata": {},
     "output_type": "display_data"
    },
    {
     "name": "stdout",
     "output_type": "stream",
     "text": [
      "\n"
     ]
    }
   ],
   "source": [
    "plt.bar(n_clusters, all_mse)\n",
    "plt.title(f\"Bar Plot of n_clusters with XGBoost MSE\")\n",
    "plt.xlabel(\"n_clusters\")\n",
    "plt.ylabel(\"MSE Score\")\n",
    "plt.xticks(ticks=n_clusters)\n",
    "plt.show()\n",
    "print()"
   ]
  },
  {
   "cell_type": "code",
   "execution_count": 6,
   "id": "7eaf8a6e-199f-4e79-b908-10ede0dc90c3",
   "metadata": {},
   "outputs": [
    {
     "data": {
      "image/png": "[encoded data removed]",
      "text/plain": [
       "<Figure size 640x480 with 1 Axes>"
      ]
     },
     "metadata": {},
     "output_type": "display_data"
    },
    {
     "name": "stdout",
     "output_type": "stream",
     "text": [
      "\n"
     ]
    }
   ],
   "source": [
    "plt.bar(n_clusters, all_rmse)\n",
    "plt.title(f\"Bar Plot of n_clusters with XGBoost RMSE\")\n",
    "plt.xlabel(\"n_clusters\")\n",
    "plt.ylabel(\"RMSE Score\")\n",
    "plt.xticks(ticks=n_clusters)\n",
    "plt.show()\n",
    "print()"
   ]
  },
  {
   "cell_type": "code",
   "execution_count": 7,
   "id": "e1e6c289-055f-4778-83b3-fa44c230d497",
   "metadata": {},
   "outputs": [
    {
     "name": "stdout",
     "output_type": "stream",
     "text": [
      "Minimum RMSE:  3046.456540932762\n"
     ]
    }
   ],
   "source": [
    "print(f\"Minimum RMSE: \", all_rmse[np.argmin(all_rmse)])"
   ]
  },
  {
   "cell_type": "code",
   "execution_count": 8,
   "id": "4030cd0f-3073-4cf1-8423-e72d9da3e0eb",
   "metadata": {},
   "outputs": [
    {
     "name": "stdout",
     "output_type": "stream",
     "text": [
      "Number of clusters with minimum RMSE:  2\n"
     ]
    }
   ],
   "source": [
    "print(f\"Number of clusters with minimum RMSE: \", n_clusters[np.argmin(all_rmse)])"
   ]
  }
 ],
 "metadata": {
  "kernelspec": {
   "display_name": "Python 3 (ipykernel)",
   "language": "python",
   "name": "python3"
  },
  "language_info": {
   "codemirror_mode": {
    "name": "ipython",
    "version": 3
   },
   "file_extension": ".py",
   "mimetype": "text/x-python",
   "name": "python",
   "nbconvert_exporter": "python",
   "pygments_lexer": "ipython3",
   "version": "3.11.0"
  }
 },
 "nbformat": 4,
 "nbformat_minor": 5
}
