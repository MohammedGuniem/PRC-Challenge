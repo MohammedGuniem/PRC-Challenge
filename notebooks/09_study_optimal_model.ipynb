{
 "cells": [
  {
   "cell_type": "code",
   "execution_count": 10,
   "id": "f2f5a6ff-9993-4afb-967b-97db21669a4d",
   "metadata": {},
   "outputs": [],
   "source": [
    "from sklearn.model_selection import GridSearchCV, KFold, train_test_split\n",
    "from sklearn.metrics import make_scorer, mean_squared_error\n",
    "from sklearn.preprocessing import StandardScaler\n",
    "from xgboost import plot_importance\n",
    "import matplotlib.pyplot as plt\n",
    "import xgboost as xgb\n",
    "import pandas as pd\n",
    "import numpy as np\n",
    "\n",
    "pd.set_option(\"display.max_columns\", None)"
   ]
  },
  {
   "cell_type": "code",
   "execution_count": 11,
   "id": "2d088487-ced4-425d-8b48-b9651c739c66",
   "metadata": {},
   "outputs": [],
   "source": [
    "identifier_name = 'flight_id'\n",
    "\n",
    "features_names = [\n",
    "    'wtc', \n",
    "    'flown_distance', \n",
    "    'aircraft_type', \n",
    "    'groundspeed_max', \n",
    "    'groundspeed_75percentile', \n",
    "    'altitude_25percentile', \n",
    "    'airline', \n",
    "    'longitude_max', \n",
    "    'latitude_min', \n",
    "    'flight_duration', \n",
    "    'vertical_rate_std', \n",
    "    'altitude_median', \n",
    "    'longitude_mean', \n",
    "    'altitude_75percentile', \n",
    "    'longitude_std', \n",
    "    'latitude_max', \n",
    "    'latitude_std', \n",
    "    'vertical_rate_max', \n",
    "    'vertical_rate_25percentile', \n",
    "    'latitude_mean', \n",
    "    'longitude_min', \n",
    "    'longitude_25percentile', \n",
    "    'ades', \n",
    "    'adep', \n",
    "    'country_code_adep', \n",
    "    'vertical_rate_75percentile', \n",
    "    'latitude_median', \n",
    "    'altitude_mean', \n",
    "    'latitude_25percentile', \n",
    "    'country_code_ades', \n",
    "    'month_day', \n",
    "    'actual_offblock_time_hour', \n",
    "    'groundspeed_min', \n",
    "    'longitude_75percentile', \n",
    "    'vertical_rate_median'\n",
    "]\n",
    "\n",
    "target_name = 'tow'\n",
    "\n",
    "global_random_state = 123"
   ]
  },
  {
   "cell_type": "code",
   "execution_count": 12,
   "id": "950f4d6d-4a45-49fe-b526-6a07cbd02470",
   "metadata": {},
   "outputs": [],
   "source": [
    "encoded_challenge_set = pd.read_csv('data/encoded_challenge_set.csv')\n",
    "challenge_features = encoded_challenge_set[features_names]\n",
    "challenge_target = encoded_challenge_set[target_name]"
   ]
  },
  {
   "cell_type": "code",
   "execution_count": 13,
   "id": "122aa917-db93-4d68-9be5-43d2618f6f4e",
   "metadata": {},
   "outputs": [],
   "source": [
    "# Function to score model using Root Mean Square Error\n",
    "def rmse(y_true, y_pred):\n",
    "    return np.sqrt(mean_squared_error(y_true, y_pred))\n",
    "    \n",
    "# Create a scorer\n",
    "rmse_scorer = make_scorer(rmse, greater_is_better=False)\n",
    "\n",
    "# Make cross validation strategy\n",
    "cv_strategy = KFold(n_splits=5, shuffle=True, random_state=global_random_state)"
   ]
  },
  {
   "cell_type": "code",
   "execution_count": null,
   "id": "9ca7395a-2670-4143-8940-4e0067d5f2e1",
   "metadata": {},
   "outputs": [
    {
     "name": "stdout",
     "output_type": "stream",
     "text": [
      "k-fold number:  1\n"
     ]
    }
   ],
   "source": [
    "accurate_challenge_data = pd.DataFrame({})\n",
    "\n",
    "kfold_num = 0\n",
    "for train_index, test_index in cv_strategy.split(challenge_features):\n",
    "    kfold_num += 1\n",
    "    print(\"k-fold number:\", kfold_num)\n",
    "    X_train, X_test = challenge_features.iloc[train_index], challenge_features.iloc[test_index]\n",
    "    y_train, y_test = challenge_target.iloc[train_index], challenge_target.iloc[test_index]\n",
    "\n",
    "    model = xgb.XGBRegressor(\n",
    "        objective='reg:squarederror', \n",
    "        eval_metric='rmse',\n",
    "        random_state=global_random_state,\n",
    "        n_estimators=3000,\n",
    "        colsample_bytree=1.0,\n",
    "        learning_rate=0.1, \n",
    "        max_depth=10, \n",
    "        subsample=1.0\n",
    "    )\n",
    "    model.fit(X_train, y_train)\n",
    "    y_pred = model.predict(X_test)\n",
    "\n",
    "    diff_df = X_test.copy()\n",
    "    diff_df['tow'] = y_test\n",
    "    diff_df['y_pred'] = y_pred\n",
    "    diff_df['difference'] = (diff_df['y_pred'] - diff_df['tow']).abs()\n",
    "    diff_df['percentage_difference'] = (diff_df['difference'] / diff_df['tow']) * 100\n",
    "\n",
    "    max_percentage_difference = np.ceil(diff_df['percentage_difference'].max()) \n",
    "\n",
    "    for per_diff in range(0, int(max_percentage_difference), 1):\n",
    "        per_diff_df = diff_df[(diff_df['percentage_difference'] <= per_diff+1) & (diff_df['percentage_difference'] >= per_diff)]\n",
    "        if len(per_diff_df) > 0:\n",
    "            per_diff_df = per_diff_df.drop(columns=['y_pred', 'difference', 'percentage_difference'])\n",
    "            duplicated_dfs = []\n",
    "            for duplicate in range(per_diff+1):\n",
    "                duplicated_dfs.append(per_diff_df)\n",
    "            duplicated_df = pd.concat(duplicated_dfs, ignore_index=True)\n",
    "            \n",
    "    if len(per_diff_df) > 0:\n",
    "        accurate_challenge_data = pd.concat([accurate_challenge_data, duplicated_df], ignore_index=True)"
   ]
  },
  {
   "cell_type": "code",
   "execution_count": null,
   "id": "578223fe-2a68-4123-b64f-61c2d74e9c8a",
   "metadata": {},
   "outputs": [],
   "source": [
    "display(accurate_challenge_data)"
   ]
  },
  {
   "cell_type": "code",
   "execution_count": null,
   "id": "8606a334-d64f-490c-99f5-5b9411a0308d",
   "metadata": {},
   "outputs": [],
   "source": [
    "accurate_challenge_features = accurate_challenge_data[features_names]\n",
    "accurate_challenge_target = accurate_challenge_data[target_name]"
   ]
  },
  {
   "cell_type": "code",
   "execution_count": null,
   "id": "40a6237e-7646-4618-a348-3fcbd5b47cee",
   "metadata": {},
   "outputs": [],
   "source": [
    "rmse_scores = []\n",
    "for train_index, test_index in cv_strategy.split(accurate_challenge_features):\n",
    "    X_train, X_test = accurate_challenge_features.iloc[train_index], accurate_challenge_features.iloc[test_index]\n",
    "    y_train, y_test = accurate_challenge_target.iloc[train_index], accurate_challenge_target.iloc[test_index]\n",
    "\n",
    "    model = xgb.XGBRegressor(\n",
    "        objective='reg:squarederror', \n",
    "        eval_metric='rmse',\n",
    "        random_state=global_random_state,\n",
    "        n_estimators=3000,\n",
    "        colsample_bytree=1.0,\n",
    "        learning_rate=0.1, \n",
    "        max_depth=10, \n",
    "        subsample=1.0\n",
    "    )\n",
    "    model.fit(X_train, y_train)\n",
    "    y_pred = model.predict(X_test)\n",
    "    rmse_score = rmse(y_test, y_pred)\n",
    "    rmse_scores.append(rmse_score)\n",
    "\n",
    "print(f\"RMSE Score: \", np.mean(rmse_scores))"
   ]
  },
  {
   "cell_type": "code",
   "execution_count": null,
   "id": "24d6b48f-dc17-48b3-98df-2bb255f69180",
   "metadata": {},
   "outputs": [],
   "source": [
    "model = xgb.XGBRegressor(\n",
    "    objective='reg:squarederror', \n",
    "    eval_metric='rmse',\n",
    "    random_state=global_random_state,\n",
    "    n_estimators=3000,\n",
    "    colsample_bytree=1.0,\n",
    "    learning_rate=0.1, \n",
    "    max_depth=10, \n",
    "    subsample=1.0\n",
    ")\n",
    "\n",
    "model.fit(accurate_challenge_features, accurate_challenge_target)"
   ]
  },
  {
   "cell_type": "code",
   "execution_count": null,
   "id": "044f9c32-fecf-4c8c-ac8f-33a22d63080a",
   "metadata": {},
   "outputs": [],
   "source": [
    "encoded_submission_set = pd.read_csv('data/encoded_submission_set.csv')\n",
    "submission_features = encoded_submission_set[features_names]"
   ]
  },
  {
   "cell_type": "code",
   "execution_count": null,
   "id": "1b106007-5e00-4fcd-a98d-a62adeba2b98",
   "metadata": {},
   "outputs": [],
   "source": [
    "y_pred = model.predict(submission_features)"
   ]
  },
  {
   "cell_type": "code",
   "execution_count": null,
   "id": "d6eab64e-d78c-49d1-a38a-13e862caa2d3",
   "metadata": {},
   "outputs": [],
   "source": [
    "submission_df = submission_features.copy()\n",
    "submission_df[identifier_name] = encoded_submission_set[identifier_name]\n",
    "submission_df[target_name] = y_pred"
   ]
  },
  {
   "cell_type": "code",
   "execution_count": null,
   "id": "5412e77b-99ab-435a-9811-1635d6e052aa",
   "metadata": {},
   "outputs": [],
   "source": [
    "display(submission_df[[identifier_name, target_name]])"
   ]
  },
  {
   "cell_type": "code",
   "execution_count": null,
   "id": "0b82031e-cd9d-4c61-aaea-15fd5bad6fa0",
   "metadata": {},
   "outputs": [],
   "source": [
    "submission_df[[identifier_name, target_name]].to_csv('./submissions/my_submission_v17.csv', index=False)"
   ]
  }
 ],
 "metadata": {
  "kernelspec": {
   "display_name": "Python 3 (ipykernel)",
   "language": "python",
   "name": "python3"
  },
  "language_info": {
   "codemirror_mode": {
    "name": "ipython",
    "version": 3
   },
   "file_extension": ".py",
   "mimetype": "text/x-python",
   "name": "python",
   "nbconvert_exporter": "python",
   "pygments_lexer": "ipython3",
   "version": "3.11.9"
  }
 },
 "nbformat": 4,
 "nbformat_minor": 5
}
