{
 "cells": [
  {
   "cell_type": "markdown",
   "id": "aa9ec53b-3842-47af-8c98-f9653e35b2f6",
   "metadata": {},
   "source": [
    "<h1>Grid Search Decision Tree & Random Forest</h1>"
   ]
  },
  {
   "cell_type": "markdown",
   "id": "6110dfeb-7e50-4e50-a976-c5e426a67928",
   "metadata": {},
   "source": [
    "<h3>A - Prepare for Grid Search</h3>"
   ]
  },
  {
   "cell_type": "code",
   "execution_count": 1,
   "id": "b9dabcbe-5543-4430-aae8-38a300698c35",
   "metadata": {},
   "outputs": [],
   "source": [
    "from sklearn.model_selection import GridSearchCV, KFold, train_test_split\n",
    "from sklearn.metrics import make_scorer, mean_squared_error\n",
    "from sklearn.ensemble import RandomForestRegressor\n",
    "from sklearn.tree import DecisionTreeRegressor\n",
    "import matplotlib.pyplot as plt\n",
    "import pandas as pd\n",
    "import numpy as np\n",
    "\n",
    "import warnings\n",
    "warnings.filterwarnings('ignore')"
   ]
  },
  {
   "cell_type": "code",
   "execution_count": 2,
   "id": "ac950667-ad23-4b52-92d4-e40fd9b3e903",
   "metadata": {},
   "outputs": [],
   "source": [
    "challenge_set_df = pd.read_csv('../data/processed_encoded_challenge_set_df.csv')\n",
    "\n",
    "# Pick up features from dataset\n",
    "features = challenge_set_df[['adep', 'country_code_adep', 'ades', \n",
    "                             'country_code_ades', 'aircraft_type', \n",
    "                             'wtc', 'airline', 'flight_duration', \n",
    "                             'taxiout_time', 'flown_distance']]\n",
    "\n",
    "# Pick up target from dataset\n",
    "target = challenge_set_df['tow']\n",
    "\n",
    "# Function to score model using Root Mean Square Error\n",
    "def rmse(y_true, y_pred):\n",
    "    return np.sqrt(((y_true - y_pred) ** 2).mean())\n",
    "    \n",
    "# Create a scorer\n",
    "rmse_scorer = make_scorer(rmse, greater_is_better=False)\n",
    "\n",
    "# Make cross validation strategy\n",
    "cv_strategy = KFold(n_splits=5, shuffle=True, random_state=123)\n",
    "\n",
    "# Function to print the best parameters and best RMSE score after tunning\n",
    "def print_model_score(grid_search):\n",
    "    print(\"Best Parameters:\", grid_search.best_params_)\n",
    "    print(\"Best Score (Negative Mean Squared Error):\", grid_search.best_score_)"
   ]
  },
  {
   "cell_type": "markdown",
   "id": "b4709bfc-f588-4948-98e0-0e16a92bffd4",
   "metadata": {},
   "source": [
    "<h3>B - Grid Search Decision Tree</h3>"
   ]
  },
  {
   "cell_type": "code",
   "execution_count": 3,
   "id": "ade0d126-6cab-4275-8583-b6ca9f6b37f1",
   "metadata": {},
   "outputs": [
    {
     "name": "stdout",
     "output_type": "stream",
     "text": [
      "Fitting 5 folds for each of 900 candidates, totalling 4500 fits\n",
      "Best Parameters: {'ccp_alpha': 0, 'criterion': 'squared_error', 'max_depth': 10, 'max_features': None, 'min_samples_leaf': 1, 'min_samples_split': 8}\n",
      "Best Score (Negative Mean Squared Error): -4461.064639174912\n"
     ]
    }
   ],
   "source": [
    "param_grid = {\n",
    "    'max_depth': [10, 20, 30, 40, 50],\n",
    "    'min_samples_split': [1, 2, 4, 6, 8],\n",
    "    'min_samples_leaf': [1, 2, 3],\n",
    "    'max_features': [None, 'sqrt'],\n",
    "    'criterion': ['squared_error', 'friedman_mse'],\n",
    "    'ccp_alpha': [0, 0.001, 0.005]\n",
    "}\n",
    "\n",
    "# Set up GridSearchCV with custom scoring\n",
    "grid_search = GridSearchCV(\n",
    "    estimator=DecisionTreeRegressor(random_state=123), \n",
    "    param_grid=param_grid, \n",
    "    scoring=rmse_scorer, \n",
    "    cv=cv_strategy, \n",
    "    n_jobs=-1, \n",
    "    verbose=1\n",
    ")\n",
    "\n",
    "grid_search.fit(features, target)\n",
    "\n",
    "print_model_score(grid_search)"
   ]
  },
  {
   "cell_type": "markdown",
   "id": "11019d94-9056-4caa-bb88-63cbdc0929c3",
   "metadata": {},
   "source": [
    "<h3>C - Grid Search Random Forest</h3>"
   ]
  },
  {
   "cell_type": "code",
   "execution_count": 5,
   "id": "4ea86131-d26f-4425-84a9-53cea3aedba5",
   "metadata": {},
   "outputs": [
    {
     "name": "stdout",
     "output_type": "stream",
     "text": [
      "Fitting 5 folds for each of 10 candidates, totalling 50 fits\n",
      "Best Parameters: {'bootstrap': True, 'ccp_alpha': 0, 'criterion': 'squared_error', 'max_depth': 10, 'max_features': None, 'min_samples_leaf': 1, 'min_samples_split': 8, 'n_estimators': 100}\n",
      "Best Score (Negative Mean Squared Error): -4360.1402562306375\n"
     ]
    }
   ],
   "source": [
    "param_grid = {\n",
    "    'ccp_alpha': [0], \n",
    "    'criterion': ['squared_error'], \n",
    "    'max_depth': [10], \n",
    "    'max_features': [None], \n",
    "    'min_samples_leaf': [1], \n",
    "    'min_samples_split': [8],\n",
    "    'n_estimators': [20, 40, 60, 80, 100],\n",
    "    'bootstrap': [True, False]\n",
    "}\n",
    "\n",
    "# Set up GridSearchCV with custom scoring\n",
    "grid_search = GridSearchCV(\n",
    "    estimator=RandomForestRegressor(random_state=123), \n",
    "    param_grid=param_grid, \n",
    "    scoring=rmse_scorer, \n",
    "    cv=cv_strategy, \n",
    "    n_jobs=-1, \n",
    "    verbose=1\n",
    ")\n",
    "\n",
    "grid_search.fit(features, target)\n",
    "\n",
    "print_model_score(grid_search)"
   ]
  }
 ],
 "metadata": {
  "kernelspec": {
   "display_name": "Python 3 (ipykernel)",
   "language": "python",
   "name": "python3"
  },
  "language_info": {
   "codemirror_mode": {
    "name": "ipython",
    "version": 3
   },
   "file_extension": ".py",
   "mimetype": "text/x-python",
   "name": "python",
   "nbconvert_exporter": "python",
   "pygments_lexer": "ipython3",
   "version": "3.11.9"
  }
 },
 "nbformat": 4,
 "nbformat_minor": 5
}
