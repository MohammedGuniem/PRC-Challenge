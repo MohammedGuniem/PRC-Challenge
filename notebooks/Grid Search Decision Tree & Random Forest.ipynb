{
 "cells": [
  {
   "cell_type": "markdown",
   "id": "aa9ec53b-3842-47af-8c98-f9653e35b2f6",
   "metadata": {},
   "source": [
    "<h1>Grid Search Decision Tree & Random Forest</h1>"
   ]
  },
  {
   "cell_type": "code",
   "execution_count": null,
   "id": "2e6d6e0e-aa9d-4fa5-9678-047710339112",
   "metadata": {},
   "outputs": [],
   "source": []
  }
 ],
 "metadata": {
  "kernelspec": {
   "display_name": "Python 3 (ipykernel)",
   "language": "python",
   "name": "python3"
  },
  "language_info": {
   "codemirror_mode": {
    "name": "ipython",
    "version": 3
   },
   "file_extension": ".py",
   "mimetype": "text/x-python",
   "name": "python",
   "nbconvert_exporter": "python",
   "pygments_lexer": "ipython3",
   "version": "3.11.9"
  }
 },
 "nbformat": 4,
 "nbformat_minor": 5
}
