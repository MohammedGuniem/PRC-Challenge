{
 "cells": [
  {
   "cell_type": "markdown",
   "id": "443d01cf-449b-42f9-9213-97112affa196",
   "metadata": {},
   "source": [
    "<h1>Summarize Trajectories</h1>"
   ]
  },
  {
   "cell_type": "code",
   "execution_count": 1,
   "id": "2c3ffa46-7bd6-4a0b-9085-8603570e1d10",
   "metadata": {},
   "outputs": [],
   "source": [
    "from datetime import datetime, timedelta\n",
    "from datetime import timedelta\n",
    "import pyarrow.parquet as pq\n",
    "import pandas as pd\n",
    "import numpy as np"
   ]
  },
  {
   "cell_type": "code",
   "execution_count": 2,
   "id": "4f3513f4-f57a-47dc-b7e1-362a5eda2b86",
   "metadata": {},
   "outputs": [],
   "source": [
    "def calculate_stat(\n",
    "    dataframe: pd.DataFrame, \n",
    "    group_by_column: str, \n",
    "    target_column: str,\n",
    "    stat_type: str\n",
    ") -> pd.Series | None:\n",
    "    group = dataframe.groupby(group_by_column)[target_column]\n",
    "    if stat_type == 'count':\n",
    "        return group.size()\n",
    "    elif stat_type == 'mean':\n",
    "        return group.mean()\n",
    "    elif stat_type == 'std':\n",
    "        return group.std()\n",
    "    elif stat_type == 'min':\n",
    "        return group.min()\n",
    "    elif stat_type == '25percentile':\n",
    "        return group.quantile(0.25)\n",
    "    elif stat_type == 'median':\n",
    "        return group.median()\n",
    "    elif stat_type == '75percentile':\n",
    "        return group.quantile(0.75)\n",
    "    elif stat_type == 'max':\n",
    "        return group.max()\n",
    "    return None"
   ]
  },
  {
   "cell_type": "code",
   "execution_count": 3,
   "id": "641af7fb-f4e0-4573-8981-4cdce6a8cf52",
   "metadata": {},
   "outputs": [],
   "source": [
    "def summarize_trajectories(\n",
    "    trajectory_df: pd.DataFrame,\n",
    "    columns: list = ['latitude', 'longitude', 'altitude', 'groundspeed', 'track', 'vertical_rate', 'track_unwrapped', \n",
    "                     'u_component_of_wind', 'v_component_of_wind', 'temperature', 'specific_humidity'],\n",
    "    stat_types: list = ['count', 'mean', 'std', 'min', '25percentile', 'median', '75percentile', 'max']\n",
    ") -> pd.DataFrame:\n",
    "    stats_dict = {}\n",
    "    for column in columns:\n",
    "        for stat_type in stat_types:\n",
    "            stat = calculate_stat(dataframe=trajectory_df, group_by_column='flight_id', target_column=column, stat_type=stat_type)\n",
    "            stats_dict[f\"{column}_{stat_type}\"] = stat\n",
    "    trajactory_summary_df = pd.DataFrame(stats_dict)\n",
    "    trajactory_summary_df = trajactory_summary_df.reset_index()\n",
    "    trajactory_summary_df.rename(columns={'index': 'flight_id'}, inplace=True)\n",
    "    trajactory_summary_df['flight_id'] = trajactory_summary_df['flight_id'].astype('int64')\n",
    "    return trajactory_summary_df"
   ]
  },
  {
   "cell_type": "code",
   "execution_count": null,
   "id": "f3722421-77ad-4ab7-b5ab-36b27ac67976",
   "metadata": {},
   "outputs": [
    {
     "name": "stdout",
     "output_type": "stream",
     "text": [
      "2022-01-01\n",
      "2022-01-02\n",
      "2022-01-03\n",
      "2022-01-04\n",
      "2022-01-05\n",
      "2022-01-06\n",
      "2022-01-07\n",
      "2022-01-08\n",
      "2022-01-09\n",
      "2022-01-10\n",
      "2022-01-11\n",
      "2022-01-12\n",
      "2022-01-13\n"
     ]
    }
   ],
   "source": [
    "summarized_trajectory_df = pd.DataFrame({})\n",
    "\n",
    "flight_count = 0\n",
    "start_date = datetime(2022, 1, 1)\n",
    "end_date = datetime(2022, 12, 31)\n",
    "\n",
    "current_date = start_date\n",
    "while current_date <= end_date:   \n",
    "    dfs =  []\n",
    "    today = current_date.strftime('%Y-%m-%d')\n",
    "    print(today)\n",
    "    today_trajectory_df = pq.ParquetDataset(f'../../data/trajectory_files/{today}.parquet').read().to_pandas()\n",
    "    flight_count += len(today_trajectory_df['flight_id'].unique())\n",
    "    dfs.append(today_trajectory_df)\n",
    "    \n",
    "    yesterday = current_date - timedelta(days=1)\n",
    "    if yesterday.year == 2022:\n",
    "        yesterday_date = yesterday.strftime('%Y-%m-%d')\n",
    "        yesterday_trajectory_df = pq.ParquetDataset(f'../../data/trajectory_files/{yesterday_date}.parquet').read().to_pandas()\n",
    "        filtered_yesterday_trajectory_df = yesterday_trajectory_df[yesterday_trajectory_df['flight_id'].isin(today_trajectory_df['flight_id'])]\n",
    "        dfs.append(filtered_yesterday_trajectory_df)\n",
    "        \n",
    "    tomorrow = current_date + timedelta(days=1)\n",
    "    if tomorrow.year == 2022:\n",
    "        tomorrow_date = tomorrow.strftime('%Y-%m-%d')\n",
    "        tomorrow_trajectory_df = pq.ParquetDataset(f'../../data/trajectory_files/{tomorrow_date}.parquet').read().to_pandas()\n",
    "        filtered_tomorrow_trajectory_df = tomorrow_trajectory_df[tomorrow_trajectory_df['flight_id'].isin(today_trajectory_df['flight_id'])]\n",
    "        dfs.append(filtered_tomorrow_trajectory_df)\n",
    "        \n",
    "    trajectory_df = pd.concat(dfs, axis=0, ignore_index=True)\n",
    "    sum_trajectory_df = summarize_trajectories(trajectory_df)\n",
    "    summarized_trajectory_df = pd.concat([summarized_trajectory_df, sum_trajectory_df], ignore_index=True)\n",
    "\n",
    "    current_date += timedelta(days=1)\n",
    "\n",
    "print(f\"{flight_count = }\")\n",
    "print(f\"{len(summarized_trajectory_df) = }\")\n",
    "num_unique_flight_ids = len(summarized_trajectory_df['flight_id'].unique())\n",
    "print(f\"{num_unique_flight_ids = }\")"
   ]
  },
  {
   "cell_type": "code",
   "execution_count": null,
   "id": "8f1dfac8-b9af-4811-868f-ae7a473df43d",
   "metadata": {},
   "outputs": [],
   "source": [
    "display(summarized_trajectory_df)"
   ]
  },
  {
   "cell_type": "code",
   "execution_count": null,
   "id": "1b51115a-2ec6-4cf2-8c94-38f7fe80d092",
   "metadata": {},
   "outputs": [],
   "source": [
    "rows_with_nan = summarized_trajectory_df[summarized_trajectory_df.isna().any(axis=1)]\n",
    "display(rows_with_nan)"
   ]
  },
  {
   "cell_type": "code",
   "execution_count": null,
   "id": "6d44bf6d-477c-4b2a-a4bc-2358cf1a3348",
   "metadata": {},
   "outputs": [],
   "source": [
    "summarized_trajectory_df.to_csv(\"summarized_trajectory.csv\", index=False)\n",
    "print(f\"summarized_trajectory.csv is saved!\")"
   ]
  }
 ],
 "metadata": {
  "kernelspec": {
   "display_name": "Python 3 (ipykernel)",
   "language": "python",
   "name": "python3"
  },
  "language_info": {
   "codemirror_mode": {
    "name": "ipython",
    "version": 3
   },
   "file_extension": ".py",
   "mimetype": "text/x-python",
   "name": "python",
   "nbconvert_exporter": "python",
   "pygments_lexer": "ipython3",
   "version": "3.11.9"
  }
 },
 "nbformat": 4,
 "nbformat_minor": 5
}
