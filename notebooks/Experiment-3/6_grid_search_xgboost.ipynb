{
 "cells": [
  {
   "cell_type": "code",
   "execution_count": 1,
   "id": "3224d815-bbaf-4ef3-8479-e76620fc2aec",
   "metadata": {},
   "outputs": [],
   "source": [
    "from sklearn.model_selection import GridSearchCV, KFold, train_test_split\n",
    "from sklearn.metrics import make_scorer, mean_squared_error\n",
    "from sklearn.preprocessing import StandardScaler\n",
    "from xgboost import plot_importance\n",
    "import matplotlib.pyplot as plt\n",
    "import xgboost as xgb\n",
    "import pandas as pd\n",
    "import numpy as np"
   ]
  },
  {
   "cell_type": "code",
   "execution_count": 2,
   "id": "bbb7fd92-5f6b-4aac-9ad5-f76b35245b6c",
   "metadata": {},
   "outputs": [],
   "source": [
    "identifier_name = 'flight_id'\n",
    "\n",
    "features_names = [\n",
    " 'month_day',\n",
    " 'month',\n",
    " 'day',\n",
    " 'actual_offblock_time_hour_minute',\n",
    " 'actual_offblock_time_hour',\n",
    " 'actual_offblock_time_minute',\n",
    " 'adep',\n",
    " 'country_code_adep',\n",
    " 'arrival_time_hour_minute',\n",
    " 'arrival_time_hour',\n",
    " 'arrival_time_minute',\n",
    " 'ades',\n",
    " 'country_code_ades',\n",
    " 'aircraft_type',\n",
    " 'wtc',\n",
    " 'airline',\n",
    " 'flight_duration',\n",
    " 'taxiout_time',\n",
    " 'flown_distance',\n",
    " 'latitude_count',\n",
    " 'latitude_mean',\n",
    " 'latitude_std',\n",
    " 'latitude_min',\n",
    " 'latitude_25percentile',\n",
    " 'latitude_median',\n",
    " 'latitude_75percentile',\n",
    " 'latitude_max',\n",
    " 'longitude_count',\n",
    " 'longitude_mean',\n",
    " 'longitude_std',\n",
    " 'longitude_min',\n",
    " 'longitude_25percentile',\n",
    " 'longitude_median',\n",
    " 'longitude_75percentile',\n",
    " 'longitude_max',\n",
    " 'altitude_count',\n",
    " 'altitude_mean',\n",
    " 'altitude_std',\n",
    " 'altitude_min',\n",
    " 'altitude_25percentile',\n",
    " 'altitude_median',\n",
    " 'altitude_75percentile',\n",
    " 'altitude_max',\n",
    " 'groundspeed_count',\n",
    " 'groundspeed_mean',\n",
    " 'groundspeed_std',\n",
    " 'groundspeed_min',\n",
    " 'groundspeed_25percentile',\n",
    " 'groundspeed_median',\n",
    " 'groundspeed_75percentile',\n",
    " 'groundspeed_max',\n",
    " 'track_count',\n",
    " 'track_mean',\n",
    " 'track_std',\n",
    " 'track_min',\n",
    " 'track_25percentile',\n",
    " 'track_median',\n",
    " 'track_75percentile',\n",
    " 'track_max',\n",
    " 'vertical_rate_count',\n",
    " 'vertical_rate_mean',\n",
    " 'vertical_rate_std',\n",
    " 'vertical_rate_min',\n",
    " 'vertical_rate_25percentile',\n",
    " 'vertical_rate_median',\n",
    " 'vertical_rate_75percentile',\n",
    " 'vertical_rate_max',\n",
    " 'track_unwrapped_count',\n",
    " 'track_unwrapped_mean',\n",
    " 'track_unwrapped_std',\n",
    " 'track_unwrapped_min',\n",
    " 'track_unwrapped_25percentile',\n",
    " 'track_unwrapped_median',\n",
    " 'track_unwrapped_75percentile',\n",
    " 'track_unwrapped_max',\n",
    " 'u_component_of_wind_count',\n",
    " 'u_component_of_wind_mean',\n",
    " 'u_component_of_wind_std',\n",
    " 'u_component_of_wind_min',\n",
    " 'u_component_of_wind_25percentile',\n",
    " 'u_component_of_wind_median',\n",
    " 'u_component_of_wind_75percentile',\n",
    " 'u_component_of_wind_max',\n",
    " 'v_component_of_wind_count',\n",
    " 'v_component_of_wind_mean',\n",
    " 'v_component_of_wind_std',\n",
    " 'v_component_of_wind_min',\n",
    " 'v_component_of_wind_25percentile',\n",
    " 'v_component_of_wind_median',\n",
    " 'v_component_of_wind_75percentile',\n",
    " 'v_component_of_wind_max',\n",
    " 'temperature_count',\n",
    " 'temperature_mean',\n",
    " 'temperature_std',\n",
    " 'temperature_min',\n",
    " 'temperature_25percentile',\n",
    " 'temperature_median',\n",
    " 'temperature_75percentile',\n",
    " 'temperature_max',\n",
    " 'specific_humidity_count',\n",
    " 'specific_humidity_mean',\n",
    " 'specific_humidity_std',\n",
    " 'specific_humidity_min',\n",
    " 'specific_humidity_25percentile',\n",
    " 'specific_humidity_median',\n",
    " 'specific_humidity_75percentile',\n",
    " 'specific_humidity_max'\n",
    "]\n",
    "\n",
    "target_name = 'tow'\n",
    "\n",
    "global_random_state = 123"
   ]
  },
  {
   "cell_type": "code",
   "execution_count": 3,
   "id": "f09788cf-51df-4e8b-ad09-e1fc601efbff",
   "metadata": {},
   "outputs": [],
   "source": [
    "encoded_challenge_set = pd.read_csv('Data Processing/encoded_challenge_set.csv')\n",
    "features = encoded_challenge_set[features_names]\n",
    "target = encoded_challenge_set[target_name]"
   ]
  },
  {
   "cell_type": "code",
   "execution_count": 4,
   "id": "3b4dc954-10bd-4b95-9e8c-8cd75a3abb27",
   "metadata": {},
   "outputs": [],
   "source": [
    "# Function to score model using Root Mean Square Error\n",
    "def rmse(y_true, y_pred):\n",
    "    return np.sqrt(mean_squared_error(y_true, y_pred))\n",
    "    \n",
    "# Create a scorer\n",
    "rmse_scorer = make_scorer(rmse, greater_is_better=False)\n",
    "\n",
    "# Make cross validation strategy\n",
    "cv_strategy = KFold(n_splits=3, shuffle=True, random_state=global_random_state)"
   ]
  },
  {
   "cell_type": "code",
   "execution_count": 5,
   "id": "62f6143f-2b78-44fc-bd59-099962d087bf",
   "metadata": {},
   "outputs": [
    {
     "name": "stdout",
     "output_type": "stream",
     "text": [
      "Fitting 3 folds for each of 1 candidates, totalling 3 fits\n",
      "Best parameters: {'colsample_bytree': 0.1, 'learning_rate': 0.1, 'max_depth': 1, 'n_estimators': 1, 'subsample': 0.1}\n",
      "Best RMSE: 50521.220003343355\n"
     ]
    }
   ],
   "source": [
    "#scaler = StandardScaler()\n",
    "#features_scaled = scaler.fit_transform(features).round(2)\n",
    "\n",
    "param_grid = {\n",
    "    'n_estimators': list(range(1,102,15)),\n",
    "    'max_depth': list(range(1, 11, 3)),\n",
    "    'learning_rate': [x / 10 for x in list(range(1, 10, 3))],\n",
    "    'subsample': [x / 10 for x in list(range(1, 11, 3))],\n",
    "    'colsample_bytree': [x / 10 for x in list(range(1, 11, 3))]\n",
    "}\n",
    "\n",
    "param_grid = {\n",
    "    'n_estimators': [1],\n",
    "    'max_depth': [1],\n",
    "    'learning_rate': [0.1],\n",
    "    'subsample': [0.1],\n",
    "    'colsample_bytree': [0.1]\n",
    "}\n",
    "\n",
    "model = xgb.XGBRegressor(\n",
    "    objective='reg:squarederror', \n",
    "    eval_metric='rmse',\n",
    "    random_state=global_random_state\n",
    ")\n",
    "\n",
    "grid_search = GridSearchCV(\n",
    "    estimator=model,\n",
    "    param_grid=param_grid,\n",
    "    scoring='neg_root_mean_squared_error', # Use RMSE (negative because scikit-learn maximizes scores)\n",
    "    cv=cv_strategy,\n",
    "    verbose=2,\n",
    "    n_jobs=-1\n",
    ")\n",
    "\n",
    "grid_search.fit(features, target)\n",
    "\n",
    "best_params = grid_search.best_params_\n",
    "print(\"Best parameters:\", best_params)\n",
    "print(\"Best RMSE:\", -grid_search.best_score_) # Negate the score to get RMSE"
   ]
  },
  {
   "cell_type": "code",
   "execution_count": 6,
   "id": "457e8e74-9c21-43d4-bd42-93f772e3914e",
   "metadata": {},
   "outputs": [
    {
     "data": {
      "text/plain": [
       "<Figure size 1000x800 with 0 Axes>"
      ]
     },
     "metadata": {},
     "output_type": "display_data"
    },
    {
     "data": {
      "image/png": "[encoded data removed]",
      "text/plain": [
       "<Figure size 640x480 with 1 Axes>"
      ]
     },
     "metadata": {},
     "output_type": "display_data"
    }
   ],
   "source": [
    "best_model = grid_search.best_estimator_\n",
    "\n",
    "# Plot feature importance\n",
    "plt.figure(figsize=(10, 8))\n",
    "xgb.plot_importance(best_model, importance_type='gain')\n",
    "plt.title('Feature Importance')\n",
    "plt.show()"
   ]
  },
  {
   "cell_type": "code",
   "execution_count": 7,
   "id": "e8f56faa-8d84-4015-b165-b602834def87",
   "metadata": {},
   "outputs": [
    {
     "ename": "NotFittedError",
     "evalue": "need to call fit or load_model beforehand",
     "output_type": "error",
     "traceback": [
      "\u001b[1;31m---------------------------------------------------------------------------\u001b[0m",
      "\u001b[1;31mNotFittedError\u001b[0m                            Traceback (most recent call last)",
      "Cell \u001b[1;32mIn[7], line 1\u001b[0m\n\u001b[1;32m----> 1\u001b[0m booster \u001b[38;5;241m=\u001b[39m \u001b[43mmodel\u001b[49m\u001b[38;5;241;43m.\u001b[39;49m\u001b[43mget_booster\u001b[49m\u001b[43m(\u001b[49m\u001b[43m)\u001b[49m\n\u001b[0;32m      3\u001b[0m \u001b[38;5;66;03m# Create a DataFrame with all feature names\u001b[39;00m\n\u001b[0;32m      4\u001b[0m all_features \u001b[38;5;241m=\u001b[39m pd\u001b[38;5;241m.\u001b[39mDataFrame(features\u001b[38;5;241m.\u001b[39mcolumns, columns\u001b[38;5;241m=\u001b[39m[\u001b[38;5;124m'\u001b[39m\u001b[38;5;124mFeature\u001b[39m\u001b[38;5;124m'\u001b[39m])\n",
      "File \u001b[1;32m~\\miniconda3\\envs\\prc\\Lib\\site-packages\\xgboost\\sklearn.py:805\u001b[0m, in \u001b[0;36mXGBModel.get_booster\u001b[1;34m(self)\u001b[0m\n\u001b[0;32m    802\u001b[0m \u001b[38;5;28;01mif\u001b[39;00m \u001b[38;5;129;01mnot\u001b[39;00m \u001b[38;5;28mself\u001b[39m\u001b[38;5;241m.\u001b[39m__sklearn_is_fitted__():\n\u001b[0;32m    803\u001b[0m     \u001b[38;5;28;01mfrom\u001b[39;00m \u001b[38;5;21;01msklearn\u001b[39;00m\u001b[38;5;21;01m.\u001b[39;00m\u001b[38;5;21;01mexceptions\u001b[39;00m \u001b[38;5;28;01mimport\u001b[39;00m NotFittedError\n\u001b[1;32m--> 805\u001b[0m     \u001b[38;5;28;01mraise\u001b[39;00m NotFittedError(\u001b[38;5;124m\"\u001b[39m\u001b[38;5;124mneed to call fit or load_model beforehand\u001b[39m\u001b[38;5;124m\"\u001b[39m)\n\u001b[0;32m    806\u001b[0m \u001b[38;5;28;01mreturn\u001b[39;00m \u001b[38;5;28mself\u001b[39m\u001b[38;5;241m.\u001b[39m_Booster\n",
      "\u001b[1;31mNotFittedError\u001b[0m: need to call fit or load_model beforehand"
     ]
    }
   ],
   "source": [
    "booster = model.get_booster()\n",
    "\n",
    "# Create a DataFrame with all feature names\n",
    "all_features = pd.DataFrame(features.columns, columns=['Feature'])\n",
    "\n",
    "# Get the importance of the features\n",
    "importance_dict = booster.get_score(importance_type='weight')\n",
    "importance_df = pd.DataFrame(importance_dict.items(), columns=['Feature', 'Importance'])\n",
    "\n",
    "# Merge with all features to include those with zero importance\n",
    "importance_full_df = all_features.merge(importance_df, on='Feature', how='left').fillna(0)\n",
    "\n",
    "# Sort the DataFrame in ascending order\n",
    "importance_full_df_sorted = importance_full_df.sort_values(by='Importance', ascending=False).reset_index(drop=True)\n",
    "\n",
    "importance_full_df_sorted"
   ]
  },
  {
   "cell_type": "code",
   "execution_count": null,
   "id": "899d2e6f-fd7c-44bd-821b-63517bc97f6e",
   "metadata": {},
   "outputs": [],
   "source": []
  }
 ],
 "metadata": {
  "kernelspec": {
   "display_name": "Python 3 (ipykernel)",
   "language": "python",
   "name": "python3"
  },
  "language_info": {
   "codemirror_mode": {
    "name": "ipython",
    "version": 3
   },
   "file_extension": ".py",
   "mimetype": "text/x-python",
   "name": "python",
   "nbconvert_exporter": "python",
   "pygments_lexer": "ipython3",
   "version": "3.11.0"
  }
 },
 "nbformat": 4,
 "nbformat_minor": 5
}
