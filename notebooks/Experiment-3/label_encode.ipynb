{
 "cells": [
  {
   "cell_type": "markdown",
   "id": "792d1c68-33ef-44fb-aaaf-2a992bfd721f",
   "metadata": {},
   "source": [
    "<h3>Append processed submission set to processed challenge set</h3>"
   ]
  },
  {
   "cell_type": "code",
   "execution_count": null,
   "id": "ec2f9771-138e-4a43-af4b-22cbf7d7e6c8",
   "metadata": {},
   "outputs": [],
   "source": []
  },
  {
   "cell_type": "markdown",
   "id": "85a36f99-3310-483b-bcf1-0dc853bc593a",
   "metadata": {},
   "source": [
    "<h3>label encode them</h3>"
   ]
  },
  {
   "cell_type": "code",
   "execution_count": null,
   "id": "f6bdf193-794a-4330-b090-37c44f86a7a5",
   "metadata": {},
   "outputs": [],
   "source": []
  },
  {
   "cell_type": "markdown",
   "id": "5f0bb766-65e4-4780-a952-2fdaa5ff7fa2",
   "metadata": {},
   "source": [
    "<h3>split them back into encoded_challenge_set.csv and encoded_submission_set.csv</h3>"
   ]
  },
  {
   "cell_type": "code",
   "execution_count": null,
   "id": "4e4ed68e-2a49-49e0-b32b-19d1aeb2825e",
   "metadata": {},
   "outputs": [],
   "source": []
  },
  {
   "cell_type": "markdown",
   "id": "17107a7c-c140-42ce-bdac-e1e4921f7f10",
   "metadata": {},
   "source": [
    "<h3>Save to csv</h3>"
   ]
  },
  {
   "cell_type": "code",
   "execution_count": null,
   "id": "d777dc9c-b1c3-42ac-a13e-ef20b9967d4c",
   "metadata": {},
   "outputs": [],
   "source": []
  }
 ],
 "metadata": {
  "kernelspec": {
   "display_name": "Python 3 (ipykernel)",
   "language": "python",
   "name": "python3"
  },
  "language_info": {
   "codemirror_mode": {
    "name": "ipython",
    "version": 3
   },
   "file_extension": ".py",
   "mimetype": "text/x-python",
   "name": "python",
   "nbconvert_exporter": "python",
   "pygments_lexer": "ipython3",
   "version": "3.11.9"
  }
 },
 "nbformat": 4,
 "nbformat_minor": 5
}
